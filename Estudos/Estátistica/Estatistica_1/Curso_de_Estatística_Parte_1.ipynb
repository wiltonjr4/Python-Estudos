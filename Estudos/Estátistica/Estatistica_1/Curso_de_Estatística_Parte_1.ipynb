{
  "nbformat": 4,
  "nbformat_minor": 0,
  "metadata": {
    "colab": {
      "name": "Curso_de_Estatística_Parte_1.ipynb",
      "provenance": [],
      "collapsed_sections": []
    },
    "kernelspec": {
      "display_name": "Python 3",
      "language": "python",
      "name": "python3"
    },
    "language_info": {
      "codemirror_mode": {
        "name": "ipython",
        "version": 3
      },
      "file_extension": ".py",
      "mimetype": "text/x-python",
      "name": "python",
      "nbconvert_exporter": "python",
      "pygments_lexer": "ipython3",
      "version": "3.6.5"
    }
  },
  "cells": [
    {
      "cell_type": "markdown",
      "metadata": {
        "id": "WvMflodMjQKe"
      },
      "source": [
        "***\n",
        "# <font color=green size=10>CURSO DE ESTATÍSTICA - PARTE 1</font>\n",
        "***"
      ]
    },
    {
      "cell_type": "markdown",
      "metadata": {
        "id": "cVgsZ_E3jQKg"
      },
      "source": [
        "# <font color=green>1 CONHECENDO OS DADOS</font>\n",
        "***"
      ]
    },
    {
      "cell_type": "markdown",
      "metadata": {
        "id": "TDjqYYNojQKh"
      },
      "source": [
        "## <font color=green>1.1 Dataset do projeto</font>\n",
        "***"
      ]
    },
    {
      "cell_type": "markdown",
      "metadata": {
        "id": "iN1gIbaKjQKh"
      },
      "source": [
        "### Pesquisa Nacional por Amostra de Domicílios - 2015\n",
        "\n",
        "A <b>Pesquisa Nacional por Amostra de Domicílios - PNAD</b> investiga anualmente, de forma permanente, características gerais da população, de educação, trabalho, rendimento e habitação e outras, com periodicidade variável, de acordo com as necessidades de informação para o país, como as características sobre migração, fecundidade, nupcialidade, saúde, segurança alimentar, entre outros temas. O levantamento dessas estatísticas constitui, ao longo dos 49 anos de realização da pesquisa, um importante instrumento para formulação, validação e avaliação de políticas orientadas para o desenvolvimento socioeconômico e a melhoria das condições de vida no Brasil."
      ]
    },
    {
      "cell_type": "markdown",
      "metadata": {
        "id": "U6V7br1RjQKi"
      },
      "source": [
        "### Fonte dos Dados\n",
        "\n",
        "https://ww2.ibge.gov.br/home/estatistica/populacao/trabalhoerendimento/pnad2015/microdados.shtm"
      ]
    },
    {
      "cell_type": "markdown",
      "metadata": {
        "id": "r0Fe_qnzjQKj"
      },
      "source": [
        "### Variáveis utilizadas\n",
        "\n",
        "> ### Renda\n",
        "> ***\n",
        "\n",
        "Rendimento mensal do trabalho principal para pessoas de 10 anos ou mais de idade.\n",
        "\n",
        "> ### Idade\n",
        "> ***\n",
        "\n",
        "Idade do morador na data de referência em anos.\n",
        "\n",
        "> ### Altura (elaboração própria)\n",
        "> ***\n",
        "\n",
        "Altura do morador em metros.\n",
        "\n",
        "> ### UF\n",
        "> ***\n",
        "\n",
        "|Código|Descrição|\n",
        "|---|---|\n",
        "|11|Rondônia|\n",
        "|12|Acre|\n",
        "|13|Amazonas|\n",
        "|14|Roraima|\n",
        "|15|Pará|\n",
        "|16|Amapá|\n",
        "|17|Tocantins|\n",
        "|21|Maranhão|\n",
        "|22|Piauí|\n",
        "|23|Ceará|\n",
        "|24|Rio Grande do Norte|\n",
        "|25|Paraíba|\n",
        "|26|Pernambuco|\n",
        "|27|Alagoas|\n",
        "|28|Sergipe|\n",
        "|29|Bahia|\n",
        "|31|Minas Gerais|\n",
        "|32|Espírito Santo|\n",
        "|33|Rio de Janeiro|\n",
        "|35|São Paulo|\n",
        "|41|Paraná|\n",
        "|42|Santa Catarina|\n",
        "|43|Rio Grande do Sul|\n",
        "|50|Mato Grosso do Sul|\n",
        "|51|Mato Grosso|\n",
        "|52|Goiás|\n",
        "|53|Distrito Federal|\n",
        "\n",
        "> ### Sexo\t\n",
        "> ***\n",
        "\n",
        "|Código|Descrição|\n",
        "|---|---|\n",
        "|0|Masculino|\n",
        "|1|Feminino|\n",
        "\n",
        "> ### Anos de Estudo\n",
        "> ***\n",
        "\n",
        "|Código|Descrição|\n",
        "|---|---|\n",
        "|1|Sem instrução e menos de 1 ano|\n",
        "|2|1 ano|\n",
        "|3|2 anos|\n",
        "|4|3 anos|\n",
        "|5|4 anos|\n",
        "|6|5 anos|\n",
        "|7|6 anos|\n",
        "|8|7 anos|\n",
        "|9|8 anos|\n",
        "|10|9 anos|\n",
        "|11|10 anos|\n",
        "|12|11 anos|\n",
        "|13|12 anos|\n",
        "|14|13 anos|\n",
        "|15|14 anos|\n",
        "|16|15 anos ou mais|\n",
        "|17|Não determinados| \n",
        "||Não aplicável|\n",
        "\n",
        "> ### Cor\n",
        "> ***\n",
        "\n",
        "|Código|Descrição|\n",
        "|---|---|\n",
        "|0|Indígena|\n",
        "|2|Branca|\n",
        "|4|Preta|\n",
        "|6|Amarela|\n",
        "|8|Parda|\n",
        "|9|Sem declaração|"
      ]
    },
    {
      "cell_type": "markdown",
      "metadata": {
        "id": "OK1IQH5cX7Gb"
      },
      "source": [
        "#### <font color='red'>Observação</font>\n",
        "***\n",
        "> Os seguintes tratamentos foram realizados nos dados originais:\n",
        "> 1. Foram eliminados os registros onde a <b>Renda</b> era inválida (999 999 999 999);\n",
        "> 2. Foram eliminados os registros onde a <b>Renda</b> era missing;\n",
        "> 3. Foram considerados somente os registros das <b>Pessoas de Referência</b> de cada domicílio (responsável pelo domicílio)."
      ]
    },
    {
      "cell_type": "markdown",
      "metadata": {
        "id": "8Rw70V6ojQKk"
      },
      "source": [
        "### Importando pandas e lendo o dataset do projeto\n",
        "\n",
        "https://pandas.pydata.org/"
      ]
    },
    {
      "cell_type": "code",
      "metadata": {
        "id": "8QgOpE-wjQKl"
      },
      "source": [
        "import pandas as pd"
      ],
      "execution_count": 4,
      "outputs": []
    },
    {
      "cell_type": "code",
      "metadata": {
        "id": "ufRZ7TLwjQKo"
      },
      "source": [
        "dados = pd.read_csv('dados.csv')"
      ],
      "execution_count": 5,
      "outputs": []
    },
    {
      "cell_type": "code",
      "metadata": {
        "colab": {
          "base_uri": "https://localhost:8080/",
          "height": 204
        },
        "id": "GsC_WhLFjQKq",
        "scrolled": true,
        "outputId": "729a5c05-449e-44f0-c3b9-34ba0b345ca6"
      },
      "source": [
        "dados.head()"
      ],
      "execution_count": 6,
      "outputs": [
        {
          "output_type": "execute_result",
          "data": {
            "text/html": [
              "<div>\n",
              "<style scoped>\n",
              "    .dataframe tbody tr th:only-of-type {\n",
              "        vertical-align: middle;\n",
              "    }\n",
              "\n",
              "    .dataframe tbody tr th {\n",
              "        vertical-align: top;\n",
              "    }\n",
              "\n",
              "    .dataframe thead th {\n",
              "        text-align: right;\n",
              "    }\n",
              "</style>\n",
              "<table border=\"1\" class=\"dataframe\">\n",
              "  <thead>\n",
              "    <tr style=\"text-align: right;\">\n",
              "      <th></th>\n",
              "      <th>UF</th>\n",
              "      <th>Sexo</th>\n",
              "      <th>Idade</th>\n",
              "      <th>Cor</th>\n",
              "      <th>Anos de Estudo</th>\n",
              "      <th>Renda</th>\n",
              "      <th>Altura</th>\n",
              "    </tr>\n",
              "  </thead>\n",
              "  <tbody>\n",
              "    <tr>\n",
              "      <th>0</th>\n",
              "      <td>11</td>\n",
              "      <td>0</td>\n",
              "      <td>23</td>\n",
              "      <td>8</td>\n",
              "      <td>12</td>\n",
              "      <td>800</td>\n",
              "      <td>1.603808</td>\n",
              "    </tr>\n",
              "    <tr>\n",
              "      <th>1</th>\n",
              "      <td>11</td>\n",
              "      <td>1</td>\n",
              "      <td>23</td>\n",
              "      <td>2</td>\n",
              "      <td>12</td>\n",
              "      <td>1150</td>\n",
              "      <td>1.739790</td>\n",
              "    </tr>\n",
              "    <tr>\n",
              "      <th>2</th>\n",
              "      <td>11</td>\n",
              "      <td>1</td>\n",
              "      <td>35</td>\n",
              "      <td>8</td>\n",
              "      <td>15</td>\n",
              "      <td>880</td>\n",
              "      <td>1.760444</td>\n",
              "    </tr>\n",
              "    <tr>\n",
              "      <th>3</th>\n",
              "      <td>11</td>\n",
              "      <td>0</td>\n",
              "      <td>46</td>\n",
              "      <td>2</td>\n",
              "      <td>6</td>\n",
              "      <td>3500</td>\n",
              "      <td>1.783158</td>\n",
              "    </tr>\n",
              "    <tr>\n",
              "      <th>4</th>\n",
              "      <td>11</td>\n",
              "      <td>1</td>\n",
              "      <td>47</td>\n",
              "      <td>8</td>\n",
              "      <td>9</td>\n",
              "      <td>150</td>\n",
              "      <td>1.690631</td>\n",
              "    </tr>\n",
              "  </tbody>\n",
              "</table>\n",
              "</div>"
            ],
            "text/plain": [
              "   UF  Sexo  Idade  Cor  Anos de Estudo  Renda    Altura\n",
              "0  11     0     23    8              12    800  1.603808\n",
              "1  11     1     23    2              12   1150  1.739790\n",
              "2  11     1     35    8              15    880  1.760444\n",
              "3  11     0     46    2               6   3500  1.783158\n",
              "4  11     1     47    8               9    150  1.690631"
            ]
          },
          "metadata": {
            "tags": []
          },
          "execution_count": 6
        }
      ]
    },
    {
      "cell_type": "markdown",
      "metadata": {
        "id": "E3Mx0tVqjQKs"
      },
      "source": [
        "## <font color=green>1.2 Tipos de dados</font>\n",
        "***"
      ]
    },
    {
      "cell_type": "markdown",
      "metadata": {
        "id": "oB4TCBFojQKt"
      },
      "source": [
        "### Variáveis qualitativas ordinais\n",
        "\n",
        "► Variáveis que podem ser ordenadas ou hierarquizardas"
      ]
    },
    {
      "cell_type": "code",
      "metadata": {
        "colab": {
          "base_uri": "https://localhost:8080/"
        },
        "id": "NtQZNGNbjQKt",
        "outputId": "7443d6af-7398-4bb7-db2d-e5f91e2119e5"
      },
      "source": [
        "sorted(dados['Anos de Estudo'].unique())"
      ],
      "execution_count": 7,
      "outputs": [
        {
          "output_type": "execute_result",
          "data": {
            "text/plain": [
              "[1, 2, 3, 4, 5, 6, 7, 8, 9, 10, 11, 12, 13, 14, 15, 16, 17]"
            ]
          },
          "metadata": {
            "tags": []
          },
          "execution_count": 7
        }
      ]
    },
    {
      "cell_type": "markdown",
      "metadata": {
        "id": "i2mCIMyojQKv"
      },
      "source": [
        "### Variáveis qualitativas nominais\n",
        "\n",
        "► Variáveis que não podem ser ordenadas ou hierarquizardas"
      ]
    },
    {
      "cell_type": "code",
      "metadata": {
        "colab": {
          "base_uri": "https://localhost:8080/"
        },
        "id": "NODtY5IxjQKw",
        "scrolled": true,
        "outputId": "fe3d7bb9-6f62-4048-f313-3731b2e31d68"
      },
      "source": [
        "sorted(dados['UF'].unique())"
      ],
      "execution_count": 8,
      "outputs": [
        {
          "output_type": "execute_result",
          "data": {
            "text/plain": [
              "[11,\n",
              " 12,\n",
              " 13,\n",
              " 14,\n",
              " 15,\n",
              " 16,\n",
              " 17,\n",
              " 21,\n",
              " 22,\n",
              " 23,\n",
              " 24,\n",
              " 25,\n",
              " 26,\n",
              " 27,\n",
              " 28,\n",
              " 29,\n",
              " 31,\n",
              " 32,\n",
              " 33,\n",
              " 35,\n",
              " 41,\n",
              " 42,\n",
              " 43,\n",
              " 50,\n",
              " 51,\n",
              " 52,\n",
              " 53]"
            ]
          },
          "metadata": {
            "tags": []
          },
          "execution_count": 8
        }
      ]
    },
    {
      "cell_type": "code",
      "metadata": {
        "colab": {
          "base_uri": "https://localhost:8080/"
        },
        "id": "NURfft2QjQKy",
        "outputId": "ff996cc6-65a3-4f8e-b226-bf61dc5e4681"
      },
      "source": [
        "sorted(dados['Sexo'].unique())"
      ],
      "execution_count": 9,
      "outputs": [
        {
          "output_type": "execute_result",
          "data": {
            "text/plain": [
              "[0, 1]"
            ]
          },
          "metadata": {
            "tags": []
          },
          "execution_count": 9
        }
      ]
    },
    {
      "cell_type": "code",
      "metadata": {
        "colab": {
          "base_uri": "https://localhost:8080/"
        },
        "id": "6VwGyqxMjQK1",
        "outputId": "0b6822aa-de03-43c7-8804-70632887890d"
      },
      "source": [
        "sorted(dados['Cor'].unique())"
      ],
      "execution_count": 10,
      "outputs": [
        {
          "output_type": "execute_result",
          "data": {
            "text/plain": [
              "[0, 2, 4, 6, 8]"
            ]
          },
          "metadata": {
            "tags": []
          },
          "execution_count": 10
        }
      ]
    },
    {
      "cell_type": "markdown",
      "metadata": {
        "id": "FQhi81LsjQK5"
      },
      "source": [
        "### Variáveis quantitativas discretas\n",
        "\n",
        "► Variáveis que representam uma contagem onde os valores possíveis formam um conjunto finito ou enumerável."
      ]
    },
    {
      "cell_type": "code",
      "metadata": {
        "colab": {
          "base_uri": "https://localhost:8080/"
        },
        "id": "sr4JXeZkjQK5",
        "outputId": "6cff39aa-cf01-454a-c49a-aa744c80f8af"
      },
      "source": [
        "print(f'De {dados.Idade.min()} até {dados.Idade.max()} anos')"
      ],
      "execution_count": 11,
      "outputs": [
        {
          "output_type": "stream",
          "text": [
            "De 13 até 99 anos\n"
          ],
          "name": "stdout"
        }
      ]
    },
    {
      "cell_type": "markdown",
      "metadata": {
        "id": "7mMXLTukjQK-"
      },
      "source": [
        "#### <font color='red'>Observação</font>\n",
        "***\n",
        "> A variável idade pode ser classificada de três formas distintas:\n",
        "> 1. <b>QUANTITATIVA DISCRETA</b> - quando representa anos completos (números inteiros);\n",
        "> 2. <b>QUANTITATIVA CONTÍNUA</b> - quando representa a idade exata, sendo representado por frações de anos; e\n",
        "> 3. <b>QUALITATIVA ORDINAL</b> - quando representa faixas de idade."
      ]
    },
    {
      "cell_type": "markdown",
      "metadata": {
        "id": "J0L2OkaQjQK7"
      },
      "source": [
        "### Variáveis quantitativas contínuas\n",
        "\n",
        "► Variáveis que representam uma contagem ou mensuração que assumem valores em uma escala contínua (números reais)."
      ]
    },
    {
      "cell_type": "code",
      "metadata": {
        "colab": {
          "base_uri": "https://localhost:8080/"
        },
        "id": "jOW-bGyRjQK8",
        "outputId": "2f1ea76e-0578-44ea-ea76-584de51fd993"
      },
      "source": [
        "print('De {:.2f} até {:.2f} metros'.format(dados.Altura.min(), dados.Altura.max()))"
      ],
      "execution_count": 12,
      "outputs": [
        {
          "output_type": "stream",
          "text": [
            "De 1.34 até 2.03 metros\n"
          ],
          "name": "stdout"
        }
      ]
    },
    {
      "cell_type": "markdown",
      "metadata": {
        "id": "d_LW5gMIjQK_"
      },
      "source": [
        "### Classificação de uma variável\n",
        "<img src='https://caelum-online-public.s3.amazonaws.com/1177-estatistica-parte1/01/img001.png' width='70%'>"
      ]
    },
    {
      "cell_type": "markdown",
      "metadata": {
        "id": "PNIg_4VEjQK_"
      },
      "source": [
        "# <font color=green>2 DISTRIBUIÇÃO DE FREQUÊNCIAS</font>\n",
        "***\n",
        "\n",
        "O primeiro passo em um trabalho de análise é o conhecimento do comportamento das variáveis envolvidas no estudo. Utilizando técnicas estatísticas como as análises das <b>DISTRIBUIÇÕES DE FREQUÊNCIAS</b> e <b>HISTOGRAMAS</b> podemos avaliar melhor a forma como os fenômenos em estudo se distribuem."
      ]
    },
    {
      "cell_type": "markdown",
      "metadata": {
        "id": "JhpyjkEFjQLA"
      },
      "source": [
        "## <font color=green>2.1 Distribuição de frequências para variáveis qualitativas</font>\n",
        "***"
      ]
    },
    {
      "cell_type": "markdown",
      "metadata": {
        "id": "SsN3ikjqjQLB"
      },
      "source": [
        "### Método 1"
      ]
    },
    {
      "cell_type": "markdown",
      "metadata": {
        "id": "dj_v0M44X7G3"
      },
      "source": [
        "https://pandas.pydata.org/pandas-docs/version/0.22/generated/pandas.Series.value_counts.html"
      ]
    },
    {
      "cell_type": "code",
      "metadata": {
        "colab": {
          "base_uri": "https://localhost:8080/"
        },
        "id": "cA4gUboZjQLB",
        "outputId": "5873efa7-9e47-44ed-c489-c4600e3fa0ce"
      },
      "source": [
        "dados['Sexo'].value_counts()"
      ],
      "execution_count": 13,
      "outputs": [
        {
          "output_type": "execute_result",
          "data": {
            "text/plain": [
              "0    53250\n",
              "1    23590\n",
              "Name: Sexo, dtype: int64"
            ]
          },
          "metadata": {
            "tags": []
          },
          "execution_count": 13
        }
      ]
    },
    {
      "cell_type": "code",
      "metadata": {
        "colab": {
          "base_uri": "https://localhost:8080/"
        },
        "id": "iy4-ijknjQLD",
        "outputId": "cc997ae5-32a6-4642-ad24-80263cbb0270"
      },
      "source": [
        "dados['Sexo'].value_counts(normalize = True) * 100"
      ],
      "execution_count": 14,
      "outputs": [
        {
          "output_type": "execute_result",
          "data": {
            "text/plain": [
              "0    69.299844\n",
              "1    30.700156\n",
              "Name: Sexo, dtype: float64"
            ]
          },
          "metadata": {
            "tags": []
          },
          "execution_count": 14
        }
      ]
    },
    {
      "cell_type": "code",
      "metadata": {
        "id": "qfkiLcFijQLG"
      },
      "source": [
        "frequancia = dados['Sexo'].value_counts()"
      ],
      "execution_count": 15,
      "outputs": []
    },
    {
      "cell_type": "code",
      "metadata": {
        "id": "t4uFMt6fjQLI"
      },
      "source": [
        "percentual = (dados['Sexo'].value_counts(normalize = True) * 100).round(2)"
      ],
      "execution_count": 16,
      "outputs": []
    },
    {
      "cell_type": "code",
      "metadata": {
        "id": "zUGfju86jQLM"
      },
      "source": [
        "dist_freq_qualitativas = pd.DataFrame({'Frequência': frequancia, 'Porcentagem (%)': percentual})"
      ],
      "execution_count": 17,
      "outputs": []
    },
    {
      "cell_type": "code",
      "metadata": {
        "colab": {
          "base_uri": "https://localhost:8080/",
          "height": 111
        },
        "id": "kPOYfijijQLO",
        "outputId": "fd43ce5f-ba38-47f5-e6cf-69a0c35df5fa"
      },
      "source": [
        "dist_freq_qualitativas"
      ],
      "execution_count": 18,
      "outputs": [
        {
          "output_type": "execute_result",
          "data": {
            "text/html": [
              "<div>\n",
              "<style scoped>\n",
              "    .dataframe tbody tr th:only-of-type {\n",
              "        vertical-align: middle;\n",
              "    }\n",
              "\n",
              "    .dataframe tbody tr th {\n",
              "        vertical-align: top;\n",
              "    }\n",
              "\n",
              "    .dataframe thead th {\n",
              "        text-align: right;\n",
              "    }\n",
              "</style>\n",
              "<table border=\"1\" class=\"dataframe\">\n",
              "  <thead>\n",
              "    <tr style=\"text-align: right;\">\n",
              "      <th></th>\n",
              "      <th>Frequência</th>\n",
              "      <th>Porcentagem (%)</th>\n",
              "    </tr>\n",
              "  </thead>\n",
              "  <tbody>\n",
              "    <tr>\n",
              "      <th>0</th>\n",
              "      <td>53250</td>\n",
              "      <td>69.3</td>\n",
              "    </tr>\n",
              "    <tr>\n",
              "      <th>1</th>\n",
              "      <td>23590</td>\n",
              "      <td>30.7</td>\n",
              "    </tr>\n",
              "  </tbody>\n",
              "</table>\n",
              "</div>"
            ],
            "text/plain": [
              "   Frequência  Porcentagem (%)\n",
              "0       53250             69.3\n",
              "1       23590             30.7"
            ]
          },
          "metadata": {
            "tags": []
          },
          "execution_count": 18
        }
      ]
    },
    {
      "cell_type": "code",
      "metadata": {
        "id": "tMS-VSk3jQLQ"
      },
      "source": [
        "dist_freq_qualitativas.rename(index = {0: 'Masculino', 1: 'Feminino'}, inplace = True)\n",
        "dist_freq_qualitativas.rename_axis('Sexo', axis='columns', inplace = True)"
      ],
      "execution_count": 19,
      "outputs": []
    },
    {
      "cell_type": "code",
      "metadata": {
        "colab": {
          "base_uri": "https://localhost:8080/",
          "height": 111
        },
        "id": "B9zkYdcCyHe6",
        "outputId": "b5529a81-c81f-4096-ccce-c7c386c290a2"
      },
      "source": [
        "dist_freq_qualitativas"
      ],
      "execution_count": 20,
      "outputs": [
        {
          "output_type": "execute_result",
          "data": {
            "text/html": [
              "<div>\n",
              "<style scoped>\n",
              "    .dataframe tbody tr th:only-of-type {\n",
              "        vertical-align: middle;\n",
              "    }\n",
              "\n",
              "    .dataframe tbody tr th {\n",
              "        vertical-align: top;\n",
              "    }\n",
              "\n",
              "    .dataframe thead th {\n",
              "        text-align: right;\n",
              "    }\n",
              "</style>\n",
              "<table border=\"1\" class=\"dataframe\">\n",
              "  <thead>\n",
              "    <tr style=\"text-align: right;\">\n",
              "      <th>Sexo</th>\n",
              "      <th>Frequência</th>\n",
              "      <th>Porcentagem (%)</th>\n",
              "    </tr>\n",
              "  </thead>\n",
              "  <tbody>\n",
              "    <tr>\n",
              "      <th>Masculino</th>\n",
              "      <td>53250</td>\n",
              "      <td>69.3</td>\n",
              "    </tr>\n",
              "    <tr>\n",
              "      <th>Feminino</th>\n",
              "      <td>23590</td>\n",
              "      <td>30.7</td>\n",
              "    </tr>\n",
              "  </tbody>\n",
              "</table>\n",
              "</div>"
            ],
            "text/plain": [
              "Sexo       Frequência  Porcentagem (%)\n",
              "Masculino       53250             69.3\n",
              "Feminino        23590             30.7"
            ]
          },
          "metadata": {
            "tags": []
          },
          "execution_count": 20
        }
      ]
    },
    {
      "cell_type": "markdown",
      "metadata": {
        "id": "D82ocp_djQLR"
      },
      "source": [
        "### Método 2"
      ]
    },
    {
      "cell_type": "markdown",
      "metadata": {
        "id": "rLbfeA_UX7HF"
      },
      "source": [
        "https://pandas.pydata.org/pandas-docs/version/0.22/generated/pandas.crosstab.html"
      ]
    },
    {
      "cell_type": "code",
      "metadata": {
        "id": "d8XMZiEfjQLS"
      },
      "source": [
        "sexo = {0: 'Masculino',\n",
        "        1: 'Feminino'}\n",
        "\n",
        "cor = {0: 'Indígena',\n",
        "       2: 'Branca',\n",
        "       4: 'Preta',\n",
        "       6: 'Amarela',\n",
        "       8: 'Parda',\n",
        "       9: 'Sem declaração'}"
      ],
      "execution_count": 21,
      "outputs": []
    },
    {
      "cell_type": "code",
      "metadata": {
        "colab": {
          "base_uri": "https://localhost:8080/",
          "height": 142
        },
        "id": "YLCyOKYcjQLU",
        "outputId": "327689a2-902c-4c88-99bc-4d718e827066"
      },
      "source": [
        "frequencia = pd.crosstab(dados.Sexo, dados.Cor)\n",
        "frequencia.rename(index = sexo, inplace = True)\n",
        "frequencia.rename(columns = cor, inplace = True)\n",
        "frequencia"
      ],
      "execution_count": 22,
      "outputs": [
        {
          "output_type": "execute_result",
          "data": {
            "text/html": [
              "<div>\n",
              "<style scoped>\n",
              "    .dataframe tbody tr th:only-of-type {\n",
              "        vertical-align: middle;\n",
              "    }\n",
              "\n",
              "    .dataframe tbody tr th {\n",
              "        vertical-align: top;\n",
              "    }\n",
              "\n",
              "    .dataframe thead th {\n",
              "        text-align: right;\n",
              "    }\n",
              "</style>\n",
              "<table border=\"1\" class=\"dataframe\">\n",
              "  <thead>\n",
              "    <tr style=\"text-align: right;\">\n",
              "      <th>Cor</th>\n",
              "      <th>Indígena</th>\n",
              "      <th>Branca</th>\n",
              "      <th>Preta</th>\n",
              "      <th>Amarela</th>\n",
              "      <th>Parda</th>\n",
              "    </tr>\n",
              "    <tr>\n",
              "      <th>Sexo</th>\n",
              "      <th></th>\n",
              "      <th></th>\n",
              "      <th></th>\n",
              "      <th></th>\n",
              "      <th></th>\n",
              "    </tr>\n",
              "  </thead>\n",
              "  <tbody>\n",
              "    <tr>\n",
              "      <th>Masculino</th>\n",
              "      <td>256</td>\n",
              "      <td>22194</td>\n",
              "      <td>5502</td>\n",
              "      <td>235</td>\n",
              "      <td>25063</td>\n",
              "    </tr>\n",
              "    <tr>\n",
              "      <th>Feminino</th>\n",
              "      <td>101</td>\n",
              "      <td>9621</td>\n",
              "      <td>2889</td>\n",
              "      <td>117</td>\n",
              "      <td>10862</td>\n",
              "    </tr>\n",
              "  </tbody>\n",
              "</table>\n",
              "</div>"
            ],
            "text/plain": [
              "Cor        Indígena  Branca  Preta  Amarela  Parda\n",
              "Sexo                                              \n",
              "Masculino       256   22194   5502      235  25063\n",
              "Feminino        101    9621   2889      117  10862"
            ]
          },
          "metadata": {
            "tags": []
          },
          "execution_count": 22
        }
      ]
    },
    {
      "cell_type": "code",
      "metadata": {
        "colab": {
          "base_uri": "https://localhost:8080/",
          "height": 142
        },
        "id": "nrDtcf5gjQLV",
        "outputId": "dde6e2c8-9aad-4902-eebb-b8f62f2e3557"
      },
      "source": [
        "percentual = (pd.crosstab(dados.Sexo, dados.Cor, normalize = True) * 100).round(2)\n",
        "percentual.rename(index = sexo, inplace = True)\n",
        "percentual.rename(columns = cor, inplace = True)\n",
        "percentual"
      ],
      "execution_count": 23,
      "outputs": [
        {
          "output_type": "execute_result",
          "data": {
            "text/html": [
              "<div>\n",
              "<style scoped>\n",
              "    .dataframe tbody tr th:only-of-type {\n",
              "        vertical-align: middle;\n",
              "    }\n",
              "\n",
              "    .dataframe tbody tr th {\n",
              "        vertical-align: top;\n",
              "    }\n",
              "\n",
              "    .dataframe thead th {\n",
              "        text-align: right;\n",
              "    }\n",
              "</style>\n",
              "<table border=\"1\" class=\"dataframe\">\n",
              "  <thead>\n",
              "    <tr style=\"text-align: right;\">\n",
              "      <th>Cor</th>\n",
              "      <th>Indígena</th>\n",
              "      <th>Branca</th>\n",
              "      <th>Preta</th>\n",
              "      <th>Amarela</th>\n",
              "      <th>Parda</th>\n",
              "    </tr>\n",
              "    <tr>\n",
              "      <th>Sexo</th>\n",
              "      <th></th>\n",
              "      <th></th>\n",
              "      <th></th>\n",
              "      <th></th>\n",
              "      <th></th>\n",
              "    </tr>\n",
              "  </thead>\n",
              "  <tbody>\n",
              "    <tr>\n",
              "      <th>Masculino</th>\n",
              "      <td>0.33</td>\n",
              "      <td>28.88</td>\n",
              "      <td>7.16</td>\n",
              "      <td>0.31</td>\n",
              "      <td>32.62</td>\n",
              "    </tr>\n",
              "    <tr>\n",
              "      <th>Feminino</th>\n",
              "      <td>0.13</td>\n",
              "      <td>12.52</td>\n",
              "      <td>3.76</td>\n",
              "      <td>0.15</td>\n",
              "      <td>14.14</td>\n",
              "    </tr>\n",
              "  </tbody>\n",
              "</table>\n",
              "</div>"
            ],
            "text/plain": [
              "Cor        Indígena  Branca  Preta  Amarela  Parda\n",
              "Sexo                                              \n",
              "Masculino      0.33   28.88   7.16     0.31  32.62\n",
              "Feminino       0.13   12.52   3.76     0.15  14.14"
            ]
          },
          "metadata": {
            "tags": []
          },
          "execution_count": 23
        }
      ]
    },
    {
      "cell_type": "code",
      "metadata": {
        "colab": {
          "base_uri": "https://localhost:8080/",
          "height": 142
        },
        "id": "_MHwBGcdp6dl",
        "outputId": "e3ad9d63-0ca3-40dd-81c1-b0e0e814b44a"
      },
      "source": [
        "Renda_Media = (pd.crosstab(dados.Sexo, dados.Cor, aggfunc = 'mean', values = dados.Renda)).round(2)\n",
        "Renda_Media.rename(index = sexo, inplace = True)\n",
        "Renda_Media.rename(columns = cor, inplace = True)\n",
        "Renda_Media"
      ],
      "execution_count": 24,
      "outputs": [
        {
          "output_type": "execute_result",
          "data": {
            "text/html": [
              "<div>\n",
              "<style scoped>\n",
              "    .dataframe tbody tr th:only-of-type {\n",
              "        vertical-align: middle;\n",
              "    }\n",
              "\n",
              "    .dataframe tbody tr th {\n",
              "        vertical-align: top;\n",
              "    }\n",
              "\n",
              "    .dataframe thead th {\n",
              "        text-align: right;\n",
              "    }\n",
              "</style>\n",
              "<table border=\"1\" class=\"dataframe\">\n",
              "  <thead>\n",
              "    <tr style=\"text-align: right;\">\n",
              "      <th>Cor</th>\n",
              "      <th>Indígena</th>\n",
              "      <th>Branca</th>\n",
              "      <th>Preta</th>\n",
              "      <th>Amarela</th>\n",
              "      <th>Parda</th>\n",
              "    </tr>\n",
              "    <tr>\n",
              "      <th>Sexo</th>\n",
              "      <th></th>\n",
              "      <th></th>\n",
              "      <th></th>\n",
              "      <th></th>\n",
              "      <th></th>\n",
              "    </tr>\n",
              "  </thead>\n",
              "  <tbody>\n",
              "    <tr>\n",
              "      <th>Masculino</th>\n",
              "      <td>1081.71</td>\n",
              "      <td>2925.74</td>\n",
              "      <td>1603.86</td>\n",
              "      <td>4758.25</td>\n",
              "      <td>1659.58</td>\n",
              "    </tr>\n",
              "    <tr>\n",
              "      <th>Feminino</th>\n",
              "      <td>2464.39</td>\n",
              "      <td>2109.87</td>\n",
              "      <td>1134.60</td>\n",
              "      <td>3027.34</td>\n",
              "      <td>1176.76</td>\n",
              "    </tr>\n",
              "  </tbody>\n",
              "</table>\n",
              "</div>"
            ],
            "text/plain": [
              "Cor        Indígena   Branca    Preta  Amarela    Parda\n",
              "Sexo                                                   \n",
              "Masculino   1081.71  2925.74  1603.86  4758.25  1659.58\n",
              "Feminino    2464.39  2109.87  1134.60  3027.34  1176.76"
            ]
          },
          "metadata": {
            "tags": []
          },
          "execution_count": 24
        }
      ]
    },
    {
      "cell_type": "markdown",
      "metadata": {
        "id": "eaXQUxnXjQLa"
      },
      "source": [
        "## <font color=green>2.2 Distribuição de frequências para variáveis quantitativas (classes personalizadas)</font>\n",
        "***"
      ]
    },
    {
      "cell_type": "markdown",
      "metadata": {
        "id": "wxsSD-VVjQLb"
      },
      "source": [
        "### Passo 1 - Especificar os limites de cada classe\n",
        "\n",
        "Utilizar a seguinte classificação:\n",
        "\n",
        "<b>A</b> ► Acima de 20 SM\n",
        "\n",
        "<b>B</b> ► De 10 a 20 SM\n",
        "\n",
        "<b>C</b> ► De 4 a 10 SM\n",
        "\n",
        "<b>D</b> ► De 2 a 4 SM\n",
        "\n",
        "<b>E</b> ► Até 2 SM\n",
        "\n",
        "onde <b>SM</b> é o valor do salário mínimo na época. Em nosso caso <b>R$ 788,00</b> (2015):\n",
        "\n",
        "<b>A</b> ► Acima de 15.760\n",
        "\n",
        "<b>B</b> ► De 7.880 a 15.760\n",
        "\n",
        "<b>C</b> ► De 3.152 a 7.880\n",
        "\n",
        "<b>D</b> ► De 1.576 a 3.152\n",
        "\n",
        "<b>E</b> ► Até 1.576\n"
      ]
    },
    {
      "cell_type": "code",
      "metadata": {
        "colab": {
          "base_uri": "https://localhost:8080/"
        },
        "id": "Z08790GUjQLc",
        "outputId": "a99cae2d-f523-4b59-f783-ed947366d9dc"
      },
      "source": [
        "dados.Renda.min()"
      ],
      "execution_count": 25,
      "outputs": [
        {
          "output_type": "execute_result",
          "data": {
            "text/plain": [
              "0"
            ]
          },
          "metadata": {
            "tags": []
          },
          "execution_count": 25
        }
      ]
    },
    {
      "cell_type": "code",
      "metadata": {
        "colab": {
          "base_uri": "https://localhost:8080/"
        },
        "id": "5q2V5-0FjQLe",
        "outputId": "6147fad8-281f-4f18-9a0e-89cd3eab811c"
      },
      "source": [
        "dados.Renda.max()"
      ],
      "execution_count": 26,
      "outputs": [
        {
          "output_type": "execute_result",
          "data": {
            "text/plain": [
              "200000"
            ]
          },
          "metadata": {
            "tags": []
          },
          "execution_count": 26
        }
      ]
    },
    {
      "cell_type": "code",
      "metadata": {
        "id": "Qt5F5w2UjQLg"
      },
      "source": [
        "classes = [0, 1576, 3152, 7880, 15760, 200000]"
      ],
      "execution_count": 27,
      "outputs": []
    },
    {
      "cell_type": "code",
      "metadata": {
        "id": "DKPIGOLLjQLi"
      },
      "source": [
        "labels = ['E', 'D', 'C', 'B', 'A']"
      ],
      "execution_count": 28,
      "outputs": []
    },
    {
      "cell_type": "markdown",
      "metadata": {
        "id": "IQhlvrQUjQLk"
      },
      "source": [
        "### Passo 2 - Criar a tabela de frequências"
      ]
    },
    {
      "cell_type": "markdown",
      "metadata": {
        "id": "Uy3fH4IxX7Hc"
      },
      "source": [
        "https://pandas.pydata.org/pandas-docs/version/0.22/generated/pandas.cut.html"
      ]
    },
    {
      "cell_type": "code",
      "metadata": {
        "colab": {
          "base_uri": "https://localhost:8080/"
        },
        "id": "N-wZ_2UajQLm",
        "outputId": "aa17e2d6-b853-4f92-e3fa-c5c272f293d9"
      },
      "source": [
        "frequencia = pd.value_counts( pd.cut(x = dados.Renda, bins = classes, labels = labels, include_lowest = True) )\n",
        "frequencia"
      ],
      "execution_count": 29,
      "outputs": [
        {
          "output_type": "execute_result",
          "data": {
            "text/plain": [
              "E    49755\n",
              "D    16700\n",
              "C     7599\n",
              "B     2178\n",
              "A      608\n",
              "Name: Renda, dtype: int64"
            ]
          },
          "metadata": {
            "tags": []
          },
          "execution_count": 29
        }
      ]
    },
    {
      "cell_type": "code",
      "metadata": {
        "colab": {
          "base_uri": "https://localhost:8080/"
        },
        "id": "WrZ2m2GajQLo",
        "outputId": "ab2fdf9e-fdb4-48a1-c4ad-578a8fce80ee"
      },
      "source": [
        "percentual = (pd.value_counts( \n",
        "                              pd.cut(x = dados.Renda, bins = classes, labels = labels, include_lowest = True),\n",
        "                              normalize = True\n",
        "                              ) * 100\n",
        "              ).round(2)\n",
        "percentual"
      ],
      "execution_count": 30,
      "outputs": [
        {
          "output_type": "execute_result",
          "data": {
            "text/plain": [
              "E    64.75\n",
              "D    21.73\n",
              "C     9.89\n",
              "B     2.83\n",
              "A     0.79\n",
              "Name: Renda, dtype: float64"
            ]
          },
          "metadata": {
            "tags": []
          },
          "execution_count": 30
        }
      ]
    },
    {
      "cell_type": "code",
      "metadata": {
        "colab": {
          "base_uri": "https://localhost:8080/",
          "height": 204
        },
        "id": "btKoxJDujQLp",
        "outputId": "efd6f4c0-2357-4b34-cc13-5966868cbe31"
      },
      "source": [
        "dist_freq_quantitativas_personalizadas = pd.DataFrame({'Frequência': frequencia, 'Porcentagem (%)': percentual})\n",
        "dist_freq_quantitativas_personalizadas"
      ],
      "execution_count": 31,
      "outputs": [
        {
          "output_type": "execute_result",
          "data": {
            "text/html": [
              "<div>\n",
              "<style scoped>\n",
              "    .dataframe tbody tr th:only-of-type {\n",
              "        vertical-align: middle;\n",
              "    }\n",
              "\n",
              "    .dataframe tbody tr th {\n",
              "        vertical-align: top;\n",
              "    }\n",
              "\n",
              "    .dataframe thead th {\n",
              "        text-align: right;\n",
              "    }\n",
              "</style>\n",
              "<table border=\"1\" class=\"dataframe\">\n",
              "  <thead>\n",
              "    <tr style=\"text-align: right;\">\n",
              "      <th></th>\n",
              "      <th>Frequência</th>\n",
              "      <th>Porcentagem (%)</th>\n",
              "    </tr>\n",
              "  </thead>\n",
              "  <tbody>\n",
              "    <tr>\n",
              "      <th>E</th>\n",
              "      <td>49755</td>\n",
              "      <td>64.75</td>\n",
              "    </tr>\n",
              "    <tr>\n",
              "      <th>D</th>\n",
              "      <td>16700</td>\n",
              "      <td>21.73</td>\n",
              "    </tr>\n",
              "    <tr>\n",
              "      <th>C</th>\n",
              "      <td>7599</td>\n",
              "      <td>9.89</td>\n",
              "    </tr>\n",
              "    <tr>\n",
              "      <th>B</th>\n",
              "      <td>2178</td>\n",
              "      <td>2.83</td>\n",
              "    </tr>\n",
              "    <tr>\n",
              "      <th>A</th>\n",
              "      <td>608</td>\n",
              "      <td>0.79</td>\n",
              "    </tr>\n",
              "  </tbody>\n",
              "</table>\n",
              "</div>"
            ],
            "text/plain": [
              "   Frequência  Porcentagem (%)\n",
              "E       49755            64.75\n",
              "D       16700            21.73\n",
              "C        7599             9.89\n",
              "B        2178             2.83\n",
              "A         608             0.79"
            ]
          },
          "metadata": {
            "tags": []
          },
          "execution_count": 31
        }
      ]
    },
    {
      "cell_type": "code",
      "metadata": {
        "colab": {
          "base_uri": "https://localhost:8080/",
          "height": 204
        },
        "id": "uTMEJXUHjQLs",
        "outputId": "3b1428e6-b521-40a0-8bbe-8027eaf615fa"
      },
      "source": [
        "dist_freq_quantitativas_personalizadas.sort_index(ascending = False)"
      ],
      "execution_count": 32,
      "outputs": [
        {
          "output_type": "execute_result",
          "data": {
            "text/html": [
              "<div>\n",
              "<style scoped>\n",
              "    .dataframe tbody tr th:only-of-type {\n",
              "        vertical-align: middle;\n",
              "    }\n",
              "\n",
              "    .dataframe tbody tr th {\n",
              "        vertical-align: top;\n",
              "    }\n",
              "\n",
              "    .dataframe thead th {\n",
              "        text-align: right;\n",
              "    }\n",
              "</style>\n",
              "<table border=\"1\" class=\"dataframe\">\n",
              "  <thead>\n",
              "    <tr style=\"text-align: right;\">\n",
              "      <th></th>\n",
              "      <th>Frequência</th>\n",
              "      <th>Porcentagem (%)</th>\n",
              "    </tr>\n",
              "  </thead>\n",
              "  <tbody>\n",
              "    <tr>\n",
              "      <th>A</th>\n",
              "      <td>608</td>\n",
              "      <td>0.79</td>\n",
              "    </tr>\n",
              "    <tr>\n",
              "      <th>B</th>\n",
              "      <td>2178</td>\n",
              "      <td>2.83</td>\n",
              "    </tr>\n",
              "    <tr>\n",
              "      <th>C</th>\n",
              "      <td>7599</td>\n",
              "      <td>9.89</td>\n",
              "    </tr>\n",
              "    <tr>\n",
              "      <th>D</th>\n",
              "      <td>16700</td>\n",
              "      <td>21.73</td>\n",
              "    </tr>\n",
              "    <tr>\n",
              "      <th>E</th>\n",
              "      <td>49755</td>\n",
              "      <td>64.75</td>\n",
              "    </tr>\n",
              "  </tbody>\n",
              "</table>\n",
              "</div>"
            ],
            "text/plain": [
              "   Frequência  Porcentagem (%)\n",
              "A         608             0.79\n",
              "B        2178             2.83\n",
              "C        7599             9.89\n",
              "D       16700            21.73\n",
              "E       49755            64.75"
            ]
          },
          "metadata": {
            "tags": []
          },
          "execution_count": 32
        }
      ]
    },
    {
      "cell_type": "markdown",
      "metadata": {
        "id": "ViJYvvjujQLu"
      },
      "source": [
        "## <font color=green>2.3 Distribuição de frequências para variáveis quantitativas (classes de amplitude fixa)</font>\n",
        "***"
      ]
    },
    {
      "cell_type": "markdown",
      "metadata": {
        "id": "02ve2BVojQLv"
      },
      "source": [
        "### Importando bibliotecas\n",
        "\n",
        "http://www.numpy.org/"
      ]
    },
    {
      "cell_type": "code",
      "metadata": {
        "id": "hSIsHKuJjQLw"
      },
      "source": [
        "import numpy as np"
      ],
      "execution_count": 33,
      "outputs": []
    },
    {
      "cell_type": "markdown",
      "metadata": {
        "id": "s9UGNaMzjQLy"
      },
      "source": [
        "### Passo 1 - Difinindo o número de classes"
      ]
    },
    {
      "cell_type": "markdown",
      "metadata": {
        "id": "p268tvNHjQLy"
      },
      "source": [
        "#### Regra de Sturges\n",
        "\n",
        "# $$k = 1 + \\frac {10}{3}\\log_{10}n$$"
      ]
    },
    {
      "cell_type": "code",
      "metadata": {
        "colab": {
          "base_uri": "https://localhost:8080/"
        },
        "id": "wgLH6gGqjQLz",
        "outputId": "555e7541-8526-4a73-f36b-f7c6ad71083e"
      },
      "source": [
        "n = dados.shape[0]\n",
        "n"
      ],
      "execution_count": 34,
      "outputs": [
        {
          "output_type": "execute_result",
          "data": {
            "text/plain": [
              "76840"
            ]
          },
          "metadata": {
            "tags": []
          },
          "execution_count": 34
        }
      ]
    },
    {
      "cell_type": "code",
      "metadata": {
        "id": "uTuVep-8jQL0"
      },
      "source": [
        "k = 1 + (10 / 3) * np.log10(n)"
      ],
      "execution_count": 35,
      "outputs": []
    },
    {
      "cell_type": "code",
      "metadata": {
        "colab": {
          "base_uri": "https://localhost:8080/"
        },
        "id": "988IDFNOjQL2",
        "outputId": "9cbc3919-9bb3-4b1d-b336-6348a5c1d8b0"
      },
      "source": [
        "k"
      ],
      "execution_count": 36,
      "outputs": [
        {
          "output_type": "execute_result",
          "data": {
            "text/plain": [
              "17.285291187298853"
            ]
          },
          "metadata": {
            "tags": []
          },
          "execution_count": 36
        }
      ]
    },
    {
      "cell_type": "code",
      "metadata": {
        "colab": {
          "base_uri": "https://localhost:8080/"
        },
        "id": "B_Y66_KFjQL4",
        "outputId": "5654425f-9ee4-4385-8e40-71c63033d80b"
      },
      "source": [
        "k = int(k.round(0))\n",
        "k"
      ],
      "execution_count": 37,
      "outputs": [
        {
          "output_type": "execute_result",
          "data": {
            "text/plain": [
              "17"
            ]
          },
          "metadata": {
            "tags": []
          },
          "execution_count": 37
        }
      ]
    },
    {
      "cell_type": "markdown",
      "metadata": {
        "id": "5eO-RhaljQL6"
      },
      "source": [
        "### Passo 2 - Criar a tabela de frequências"
      ]
    },
    {
      "cell_type": "code",
      "metadata": {
        "id": "sVVA-jvDjQL7"
      },
      "source": [
        "frequencia = pd.value_counts(\n",
        "                              pd.cut(x = dados.Renda, bins = 17, include_lowest = True),\n",
        "                              sort = False\n",
        "                            ) "
      ],
      "execution_count": 38,
      "outputs": []
    },
    {
      "cell_type": "code",
      "metadata": {
        "id": "-ylxSip1jQL9"
      },
      "source": [
        "percentual = (pd.value_counts(\n",
        "                              pd.cut(x = dados.Renda, bins = 17, include_lowest = True),\n",
        "                              sort = False,\n",
        "                              normalize = True\n",
        "                            )*100).round(2)"
      ],
      "execution_count": 39,
      "outputs": []
    },
    {
      "cell_type": "code",
      "metadata": {
        "colab": {
          "base_uri": "https://localhost:8080/",
          "height": 576
        },
        "id": "n9kkJ0WTjQL_",
        "outputId": "85fdfd15-d4f9-45e8-cbdc-b8e334a87837"
      },
      "source": [
        "dist_freq_quantitativas_amplitude_fixa = pd.DataFrame({'Frequência': frequencia, 'Porcentagem (%)': percentual})\n",
        "dist_freq_quantitativas_amplitude_fixa"
      ],
      "execution_count": 40,
      "outputs": [
        {
          "output_type": "execute_result",
          "data": {
            "text/html": [
              "<div>\n",
              "<style scoped>\n",
              "    .dataframe tbody tr th:only-of-type {\n",
              "        vertical-align: middle;\n",
              "    }\n",
              "\n",
              "    .dataframe tbody tr th {\n",
              "        vertical-align: top;\n",
              "    }\n",
              "\n",
              "    .dataframe thead th {\n",
              "        text-align: right;\n",
              "    }\n",
              "</style>\n",
              "<table border=\"1\" class=\"dataframe\">\n",
              "  <thead>\n",
              "    <tr style=\"text-align: right;\">\n",
              "      <th></th>\n",
              "      <th>Frequência</th>\n",
              "      <th>Porcentagem (%)</th>\n",
              "    </tr>\n",
              "  </thead>\n",
              "  <tbody>\n",
              "    <tr>\n",
              "      <th>(-200.001, 11764.706]</th>\n",
              "      <td>75594</td>\n",
              "      <td>98.38</td>\n",
              "    </tr>\n",
              "    <tr>\n",
              "      <th>(11764.706, 23529.412]</th>\n",
              "      <td>1022</td>\n",
              "      <td>1.33</td>\n",
              "    </tr>\n",
              "    <tr>\n",
              "      <th>(23529.412, 35294.118]</th>\n",
              "      <td>169</td>\n",
              "      <td>0.22</td>\n",
              "    </tr>\n",
              "    <tr>\n",
              "      <th>(35294.118, 47058.824]</th>\n",
              "      <td>19</td>\n",
              "      <td>0.02</td>\n",
              "    </tr>\n",
              "    <tr>\n",
              "      <th>(47058.824, 58823.529]</th>\n",
              "      <td>16</td>\n",
              "      <td>0.02</td>\n",
              "    </tr>\n",
              "    <tr>\n",
              "      <th>(58823.529, 70588.235]</th>\n",
              "      <td>5</td>\n",
              "      <td>0.01</td>\n",
              "    </tr>\n",
              "    <tr>\n",
              "      <th>(70588.235, 82352.941]</th>\n",
              "      <td>4</td>\n",
              "      <td>0.01</td>\n",
              "    </tr>\n",
              "    <tr>\n",
              "      <th>(82352.941, 94117.647]</th>\n",
              "      <td>1</td>\n",
              "      <td>0.00</td>\n",
              "    </tr>\n",
              "    <tr>\n",
              "      <th>(94117.647, 105882.353]</th>\n",
              "      <td>6</td>\n",
              "      <td>0.01</td>\n",
              "    </tr>\n",
              "    <tr>\n",
              "      <th>(105882.353, 117647.059]</th>\n",
              "      <td>0</td>\n",
              "      <td>0.00</td>\n",
              "    </tr>\n",
              "    <tr>\n",
              "      <th>(117647.059, 129411.765]</th>\n",
              "      <td>1</td>\n",
              "      <td>0.00</td>\n",
              "    </tr>\n",
              "    <tr>\n",
              "      <th>(129411.765, 141176.471]</th>\n",
              "      <td>0</td>\n",
              "      <td>0.00</td>\n",
              "    </tr>\n",
              "    <tr>\n",
              "      <th>(141176.471, 152941.176]</th>\n",
              "      <td>0</td>\n",
              "      <td>0.00</td>\n",
              "    </tr>\n",
              "    <tr>\n",
              "      <th>(152941.176, 164705.882]</th>\n",
              "      <td>0</td>\n",
              "      <td>0.00</td>\n",
              "    </tr>\n",
              "    <tr>\n",
              "      <th>(164705.882, 176470.588]</th>\n",
              "      <td>0</td>\n",
              "      <td>0.00</td>\n",
              "    </tr>\n",
              "    <tr>\n",
              "      <th>(176470.588, 188235.294]</th>\n",
              "      <td>0</td>\n",
              "      <td>0.00</td>\n",
              "    </tr>\n",
              "    <tr>\n",
              "      <th>(188235.294, 200000.0]</th>\n",
              "      <td>3</td>\n",
              "      <td>0.00</td>\n",
              "    </tr>\n",
              "  </tbody>\n",
              "</table>\n",
              "</div>"
            ],
            "text/plain": [
              "                          Frequência  Porcentagem (%)\n",
              "(-200.001, 11764.706]          75594            98.38\n",
              "(11764.706, 23529.412]          1022             1.33\n",
              "(23529.412, 35294.118]           169             0.22\n",
              "(35294.118, 47058.824]            19             0.02\n",
              "(47058.824, 58823.529]            16             0.02\n",
              "(58823.529, 70588.235]             5             0.01\n",
              "(70588.235, 82352.941]             4             0.01\n",
              "(82352.941, 94117.647]             1             0.00\n",
              "(94117.647, 105882.353]            6             0.01\n",
              "(105882.353, 117647.059]           0             0.00\n",
              "(117647.059, 129411.765]           1             0.00\n",
              "(129411.765, 141176.471]           0             0.00\n",
              "(141176.471, 152941.176]           0             0.00\n",
              "(152941.176, 164705.882]           0             0.00\n",
              "(164705.882, 176470.588]           0             0.00\n",
              "(176470.588, 188235.294]           0             0.00\n",
              "(188235.294, 200000.0]             3             0.00"
            ]
          },
          "metadata": {
            "tags": []
          },
          "execution_count": 40
        }
      ]
    },
    {
      "cell_type": "markdown",
      "metadata": {
        "id": "Js9iLwNkjQME"
      },
      "source": [
        "## <font color=green>2.4 Histograma</font>\n",
        "***\n",
        "\n",
        "O <b>HISTOGRAMA</b> é a representação gráfica de uma distribuição de frequências. É uma gráfico formado por um conjunto de retângulos colocados lado a lado, onde a área de cada retângulo é proporcional à frequência da classe que ele representa."
      ]
    },
    {
      "cell_type": "markdown",
      "metadata": {
        "id": "VzZEXDKX3PUH"
      },
      "source": [
        "### Importando a biblioteca\n",
        "\n",
        "https://seaborn.pydata.org/"
      ]
    },
    {
      "cell_type": "code",
      "metadata": {
        "id": "PYRaBCnxjQME"
      },
      "source": [
        "import seaborn as sns"
      ],
      "execution_count": 41,
      "outputs": []
    },
    {
      "cell_type": "code",
      "metadata": {
        "colab": {
          "base_uri": "https://localhost:8080/",
          "height": 432
        },
        "id": "GAX3aCa6jQMG",
        "outputId": "95a57f16-f6bc-4d0a-8c45-d6f8978f27a1"
      },
      "source": [
        "ax = sns.distplot(dados.Altura, kde = False)\n",
        "ax.figure.set_size_inches(12, 5)\n",
        "ax.set_title('Distribuição de Frequências - Altura', fontsize = 18)\n",
        "ax.set_xlabel('Metros', fontsize = 14)\n",
        "ax"
      ],
      "execution_count": 42,
      "outputs": [
        {
          "output_type": "stream",
          "text": [
            "/usr/local/lib/python3.7/dist-packages/seaborn/distributions.py:2557: FutureWarning: `distplot` is a deprecated function and will be removed in a future version. Please adapt your code to use either `displot` (a figure-level function with similar flexibility) or `histplot` (an axes-level function for histograms).\n",
            "  warnings.warn(msg, FutureWarning)\n"
          ],
          "name": "stderr"
        },
        {
          "output_type": "execute_result",
          "data": {
            "text/plain": [
              "<matplotlib.axes._subplots.AxesSubplot at 0x7fd5140a1190>"
            ]
          },
          "metadata": {
            "tags": []
          },
          "execution_count": 42
        },
        {
          "output_type": "display_data",
          "data": {
            "image/png": "[encoded data removed]",
            "text/plain": [
              "<Figure size 864x360 with 1 Axes>"
            ]
          },
          "metadata": {
            "tags": [],
            "needs_background": "light"
          }
        }
      ]
    },
    {
      "cell_type": "code",
      "metadata": {
        "colab": {
          "base_uri": "https://localhost:8080/",
          "height": 432
        },
        "id": "wiQPnuMojQMJ",
        "outputId": "f4dc5d68-3886-46ac-fbed-8e1a5c10a0c5"
      },
      "source": [
        "ax = sns.distplot(dados.Altura)\n",
        "ax.figure.set_size_inches(12, 5)\n",
        "ax.set_title('Distribuição de Frequências - Altura - KDE', fontsize = 18)\n",
        "ax.set_xlabel('Metros', fontsize = 14)\n",
        "ax"
      ],
      "execution_count": 43,
      "outputs": [
        {
          "output_type": "stream",
          "text": [
            "/usr/local/lib/python3.7/dist-packages/seaborn/distributions.py:2557: FutureWarning: `distplot` is a deprecated function and will be removed in a future version. Please adapt your code to use either `displot` (a figure-level function with similar flexibility) or `histplot` (an axes-level function for histograms).\n",
            "  warnings.warn(msg, FutureWarning)\n"
          ],
          "name": "stderr"
        },
        {
          "output_type": "execute_result",
          "data": {
            "text/plain": [
              "<matplotlib.axes._subplots.AxesSubplot at 0x7fd513f0d850>"
            ]
          },
          "metadata": {
            "tags": []
          },
          "execution_count": 43
        },
        {
          "output_type": "display_data",
          "data": {
            "image/png": "[encoded data removed]",
            "text/plain": [
              "<Figure size 864x360 with 1 Axes>"
            ]
          },
          "metadata": {
            "tags": [],
            "needs_background": "light"
          }
        }
      ]
    },
    {
      "cell_type": "code",
      "metadata": {
        "colab": {
          "base_uri": "https://localhost:8080/",
          "height": 392
        },
        "id": "3fySBW7qjQMK",
        "outputId": "0388b2f9-c71e-44e1-ac2e-8ea3b2cf95ee"
      },
      "source": [
        "dados.Altura.hist(bins = 50, figsize = (12,6))"
      ],
      "execution_count": 44,
      "outputs": [
        {
          "output_type": "execute_result",
          "data": {
            "text/plain": [
              "<matplotlib.axes._subplots.AxesSubplot at 0x7fd5091981d0>"
            ]
          },
          "metadata": {
            "tags": []
          },
          "execution_count": 44
        },
        {
          "output_type": "display_data",
          "data": {
            "image/png": "[encoded data removed]",
            "text/plain": [
              "<Figure size 864x432 with 1 Axes>"
            ]
          },
          "metadata": {
            "tags": [],
            "needs_background": "light"
          }
        }
      ]
    },
    {
      "cell_type": "code",
      "metadata": {
        "colab": {
          "base_uri": "https://localhost:8080/",
          "height": 204
        },
        "id": "0HcLhLYtjQMM",
        "outputId": "5f44d39a-9adb-4ce9-8685-08b5b98b4fed"
      },
      "source": [
        "dist_freq_quantitativas_personalizadas"
      ],
      "execution_count": 45,
      "outputs": [
        {
          "output_type": "execute_result",
          "data": {
            "text/html": [
              "<div>\n",
              "<style scoped>\n",
              "    .dataframe tbody tr th:only-of-type {\n",
              "        vertical-align: middle;\n",
              "    }\n",
              "\n",
              "    .dataframe tbody tr th {\n",
              "        vertical-align: top;\n",
              "    }\n",
              "\n",
              "    .dataframe thead th {\n",
              "        text-align: right;\n",
              "    }\n",
              "</style>\n",
              "<table border=\"1\" class=\"dataframe\">\n",
              "  <thead>\n",
              "    <tr style=\"text-align: right;\">\n",
              "      <th></th>\n",
              "      <th>Frequência</th>\n",
              "      <th>Porcentagem (%)</th>\n",
              "    </tr>\n",
              "  </thead>\n",
              "  <tbody>\n",
              "    <tr>\n",
              "      <th>E</th>\n",
              "      <td>49755</td>\n",
              "      <td>64.75</td>\n",
              "    </tr>\n",
              "    <tr>\n",
              "      <th>D</th>\n",
              "      <td>16700</td>\n",
              "      <td>21.73</td>\n",
              "    </tr>\n",
              "    <tr>\n",
              "      <th>C</th>\n",
              "      <td>7599</td>\n",
              "      <td>9.89</td>\n",
              "    </tr>\n",
              "    <tr>\n",
              "      <th>B</th>\n",
              "      <td>2178</td>\n",
              "      <td>2.83</td>\n",
              "    </tr>\n",
              "    <tr>\n",
              "      <th>A</th>\n",
              "      <td>608</td>\n",
              "      <td>0.79</td>\n",
              "    </tr>\n",
              "  </tbody>\n",
              "</table>\n",
              "</div>"
            ],
            "text/plain": [
              "   Frequência  Porcentagem (%)\n",
              "E       49755            64.75\n",
              "D       16700            21.73\n",
              "C        7599             9.89\n",
              "B        2178             2.83\n",
              "A         608             0.79"
            ]
          },
          "metadata": {
            "tags": []
          },
          "execution_count": 45
        }
      ]
    },
    {
      "cell_type": "code",
      "metadata": {
        "colab": {
          "base_uri": "https://localhost:8080/",
          "height": 335
        },
        "id": "IQYnbxoS-kjQ",
        "outputId": "519db57f-4899-408a-b049-827e91b8f92e"
      },
      "source": [
        "dist_freq_quantitativas_personalizadas['Frequência'].plot.bar(width = 1, color = 'blue', alpha = 0.2, figsize = (12,5))"
      ],
      "execution_count": 46,
      "outputs": [
        {
          "output_type": "execute_result",
          "data": {
            "text/plain": [
              "<matplotlib.axes._subplots.AxesSubplot at 0x7fd50909aa90>"
            ]
          },
          "metadata": {
            "tags": []
          },
          "execution_count": 46
        },
        {
          "output_type": "display_data",
          "data": {
            "image/png": "[encoded data removed]",
            "text/plain": [
              "<Figure size 864x360 with 1 Axes>"
            ]
          },
          "metadata": {
            "tags": [],
            "needs_background": "light"
          }
        }
      ]
    },
    {
      "cell_type": "markdown",
      "metadata": {
        "id": "uIb17Es3jQMP"
      },
      "source": [
        "# <font color=green>3 MEDIDAS DE TENDÊNCIA CENTRAL</font>\n",
        "***"
      ]
    },
    {
      "cell_type": "markdown",
      "metadata": {
        "id": "Wrya4suEX7H-"
      },
      "source": [
        "## DataFrame de exemplo"
      ]
    },
    {
      "cell_type": "code",
      "metadata": {
        "colab": {
          "base_uri": "https://localhost:8080/",
          "height": 266
        },
        "id": "jj7a21flX7H_",
        "outputId": "dc28b2e6-5f6e-4c15-9073-31198a9b968a"
      },
      "source": [
        "df = pd.DataFrame(data = {'Beltrano': [10, 2, 0.5, 1, 3, 9.5, 10],\n",
        "                          'Fulano': [8, 10, 4, 8, 6, 10, 8],\n",
        "                          'Sicrano': [7.5, 8, 7, 8, 8, 8.5, 7]\n",
        "                          },\n",
        "                  index = ['Matemática',\n",
        "                           'Portugês',\n",
        "                           'Inglês',\n",
        "                           'Geografia',\n",
        "                           'História',\n",
        "                           'Física',\n",
        "                           'Química']\n",
        "                  )\n",
        "df.rename_axis('Matérias', axis = 'columns', inplace = True)\n",
        "df"
      ],
      "execution_count": 49,
      "outputs": [
        {
          "output_type": "execute_result",
          "data": {
            "text/html": [
              "<div>\n",
              "<style scoped>\n",
              "    .dataframe tbody tr th:only-of-type {\n",
              "        vertical-align: middle;\n",
              "    }\n",
              "\n",
              "    .dataframe tbody tr th {\n",
              "        vertical-align: top;\n",
              "    }\n",
              "\n",
              "    .dataframe thead th {\n",
              "        text-align: right;\n",
              "    }\n",
              "</style>\n",
              "<table border=\"1\" class=\"dataframe\">\n",
              "  <thead>\n",
              "    <tr style=\"text-align: right;\">\n",
              "      <th>Matérias</th>\n",
              "      <th>Beltrano</th>\n",
              "      <th>Fulano</th>\n",
              "      <th>Sicrano</th>\n",
              "    </tr>\n",
              "  </thead>\n",
              "  <tbody>\n",
              "    <tr>\n",
              "      <th>Matemática</th>\n",
              "      <td>10.0</td>\n",
              "      <td>8</td>\n",
              "      <td>7.5</td>\n",
              "    </tr>\n",
              "    <tr>\n",
              "      <th>Portugês</th>\n",
              "      <td>2.0</td>\n",
              "      <td>10</td>\n",
              "      <td>8.0</td>\n",
              "    </tr>\n",
              "    <tr>\n",
              "      <th>Inglês</th>\n",
              "      <td>0.5</td>\n",
              "      <td>4</td>\n",
              "      <td>7.0</td>\n",
              "    </tr>\n",
              "    <tr>\n",
              "      <th>Geografia</th>\n",
              "      <td>1.0</td>\n",
              "      <td>8</td>\n",
              "      <td>8.0</td>\n",
              "    </tr>\n",
              "    <tr>\n",
              "      <th>História</th>\n",
              "      <td>3.0</td>\n",
              "      <td>6</td>\n",
              "      <td>8.0</td>\n",
              "    </tr>\n",
              "    <tr>\n",
              "      <th>Física</th>\n",
              "      <td>9.5</td>\n",
              "      <td>10</td>\n",
              "      <td>8.5</td>\n",
              "    </tr>\n",
              "    <tr>\n",
              "      <th>Química</th>\n",
              "      <td>10.0</td>\n",
              "      <td>8</td>\n",
              "      <td>7.0</td>\n",
              "    </tr>\n",
              "  </tbody>\n",
              "</table>\n",
              "</div>"
            ],
            "text/plain": [
              "Matérias    Beltrano  Fulano  Sicrano\n",
              "Matemática      10.0       8      7.5\n",
              "Portugês         2.0      10      8.0\n",
              "Inglês           0.5       4      7.0\n",
              "Geografia        1.0       8      8.0\n",
              "História         3.0       6      8.0\n",
              "Física           9.5      10      8.5\n",
              "Química         10.0       8      7.0"
            ]
          },
          "metadata": {
            "tags": []
          },
          "execution_count": 49
        }
      ]
    },
    {
      "cell_type": "markdown",
      "metadata": {
        "id": "kcHJFW-YjQMP"
      },
      "source": [
        "## <font color=green>3.1 Média aritmética</font>\n",
        "***\n",
        "\n",
        "É representada por $\\mu$ quando se refere à população e por $\\bar{X}$ quando se refere à amostra\n",
        "\n",
        "# $$\\mu = \\frac 1n\\sum_{i=1}^{n}X_i$$\n",
        "\n",
        "onde \n",
        "\n",
        "$n$ = número de observações (registros)\n",
        "\n",
        "$X_i$ = valor da i-ésima observação (registro)"
      ]
    },
    {
      "cell_type": "code",
      "metadata": {
        "colab": {
          "base_uri": "https://localhost:8080/"
        },
        "id": "QW4JPcBmX7IA",
        "outputId": "116700da-b2a6-4793-a105-452fc34071be"
      },
      "source": [
        "(8 + 10 + 4 + 8 + 6 + 10 + 8) / 7"
      ],
      "execution_count": 50,
      "outputs": [
        {
          "output_type": "execute_result",
          "data": {
            "text/plain": [
              "7.714285714285714"
            ]
          },
          "metadata": {
            "tags": []
          },
          "execution_count": 50
        }
      ]
    },
    {
      "cell_type": "code",
      "metadata": {
        "colab": {
          "base_uri": "https://localhost:8080/"
        },
        "id": "LuT8WNy5X7IB",
        "outputId": "4f287a44-0da2-447d-b478-7972657f192b"
      },
      "source": [
        "df.Fulano.mean()"
      ],
      "execution_count": 51,
      "outputs": [
        {
          "output_type": "execute_result",
          "data": {
            "text/plain": [
              "7.714285714285714"
            ]
          },
          "metadata": {
            "tags": []
          },
          "execution_count": 51
        }
      ]
    },
    {
      "cell_type": "code",
      "metadata": {
        "colab": {
          "base_uri": "https://localhost:8080/"
        },
        "id": "BRMZcmMEjQMQ",
        "outputId": "37220bff-bbd3-4ae8-e4bb-0a296709ffcf"
      },
      "source": [
        "dados.Renda.mean()"
      ],
      "execution_count": 52,
      "outputs": [
        {
          "output_type": "execute_result",
          "data": {
            "text/plain": [
              "2000.3831988547631"
            ]
          },
          "metadata": {
            "tags": []
          },
          "execution_count": 52
        }
      ]
    },
    {
      "cell_type": "code",
      "metadata": {
        "colab": {
          "base_uri": "https://localhost:8080/"
        },
        "id": "CGgJbsK0HBQc",
        "outputId": "bcce93d3-3705-42e1-afb5-56665af1e78b"
      },
      "source": [
        "dados.groupby(['Sexo'])['Renda'].mean()"
      ],
      "execution_count": 54,
      "outputs": [
        {
          "output_type": "execute_result",
          "data": {
            "text/plain": [
              "Sexo\n",
              "0    2192.441596\n",
              "1    1566.847393\n",
              "Name: Renda, dtype: float64"
            ]
          },
          "metadata": {
            "tags": []
          },
          "execution_count": 54
        }
      ]
    },
    {
      "cell_type": "code",
      "metadata": {
        "colab": {
          "base_uri": "https://localhost:8080/"
        },
        "id": "vGzsXOHSiof6",
        "outputId": "80c04378-e294-44d8-c395-f91861ba1c7a"
      },
      "source": [
        "(53 + 40 + 58 + 32) / 4"
      ],
      "execution_count": 57,
      "outputs": [
        {
          "output_type": "execute_result",
          "data": {
            "text/plain": [
              "45.75"
            ]
          },
          "metadata": {
            "tags": []
          },
          "execution_count": 57
        }
      ]
    },
    {
      "cell_type": "markdown",
      "metadata": {
        "id": "9geu3UcKjQMS"
      },
      "source": [
        "## <font color=green>3.2 Mediana</font>\n",
        "***\n",
        "\n",
        "Para obtermos a mediana de uma conjunto de dados devemos proceder da seguinte maneira:\n",
        "1. Ordenar o conjunto de dados;\n",
        "2. Identificar o número de observações (registros) do conjunto de dados ($n$);\n",
        "3. Identicar o elemento mediano:\n",
        "\n",
        "> Quando $n$ for ímpar, a posição do elemento mediano será obtida da seguinte forma:\n",
        "\n",
        "\n",
        "# $$Elemento_{Md} = \\frac{n+1}2$$\n",
        "\n",
        "> Quando $n$ for par, a posição do elemento mediano será obtida da seguinte forma:\n",
        "\n",
        "\n",
        "# $$Elemento_{Md} = \\frac{n}2$$\n",
        "\n",
        "4. Obter a mediana:\n",
        "\n",
        "> Quando $n$ for ímpar:\n",
        "\n",
        "\n",
        "# $$Md = X_{Elemento_{Md}}$$\n",
        "\n",
        "> Quando $n$ for par:\n",
        "\n",
        "\n",
        "# $$Md = \\frac{X_{Elemento_{Md}} + X_{Elemento_{Md}+1}}2$$\n",
        "***"
      ]
    },
    {
      "cell_type": "markdown",
      "metadata": {
        "id": "e0IuYdJFjQMT"
      },
      "source": [
        "### Exemplo 1 - n ímpar\n",
        "\n",
        "<img src='https://caelum-online-public.s3.amazonaws.com/1177-estatistica-parte1/01/img002.png' width='40%' style=\"float:left\">"
      ]
    },
    {
      "cell_type": "code",
      "metadata": {
        "colab": {
          "base_uri": "https://localhost:8080/"
        },
        "id": "3dXjdRFlX7IH",
        "outputId": "8432f723-44ba-4549-9d00-11187df67f3e"
      },
      "source": [
        "notas_fulano = df.Fulano\n",
        "notas_fulano"
      ],
      "execution_count": 59,
      "outputs": [
        {
          "output_type": "execute_result",
          "data": {
            "text/plain": [
              "Matemática     8\n",
              "Portugês      10\n",
              "Inglês         4\n",
              "Geografia      8\n",
              "História       6\n",
              "Física        10\n",
              "Química        8\n",
              "Name: Fulano, dtype: int64"
            ]
          },
          "metadata": {
            "tags": []
          },
          "execution_count": 59
        }
      ]
    },
    {
      "cell_type": "code",
      "metadata": {
        "colab": {
          "base_uri": "https://localhost:8080/"
        },
        "id": "ALIDiNh8jvLq",
        "outputId": "f34bcc2d-d116-4b8e-88d0-15047b78238c"
      },
      "source": [
        "notas_fulano = notas_fulano.sort_values()\n",
        "notas_fulano"
      ],
      "execution_count": 60,
      "outputs": [
        {
          "output_type": "execute_result",
          "data": {
            "text/plain": [
              "Inglês         4\n",
              "História       6\n",
              "Matemática     8\n",
              "Geografia      8\n",
              "Química        8\n",
              "Portugês      10\n",
              "Física        10\n",
              "Name: Fulano, dtype: int64"
            ]
          },
          "metadata": {
            "tags": []
          },
          "execution_count": 60
        }
      ]
    },
    {
      "cell_type": "code",
      "metadata": {
        "colab": {
          "base_uri": "https://localhost:8080/",
          "height": 266
        },
        "id": "cU91DJ-yjQMV",
        "outputId": "89b96055-99cd-41c1-f240-0241f53a0ed2"
      },
      "source": [
        "notas_fulano = notas_fulano.reset_index()\n",
        "notas_fulano"
      ],
      "execution_count": 61,
      "outputs": [
        {
          "output_type": "execute_result",
          "data": {
            "text/html": [
              "<div>\n",
              "<style scoped>\n",
              "    .dataframe tbody tr th:only-of-type {\n",
              "        vertical-align: middle;\n",
              "    }\n",
              "\n",
              "    .dataframe tbody tr th {\n",
              "        vertical-align: top;\n",
              "    }\n",
              "\n",
              "    .dataframe thead th {\n",
              "        text-align: right;\n",
              "    }\n",
              "</style>\n",
              "<table border=\"1\" class=\"dataframe\">\n",
              "  <thead>\n",
              "    <tr style=\"text-align: right;\">\n",
              "      <th></th>\n",
              "      <th>index</th>\n",
              "      <th>Fulano</th>\n",
              "    </tr>\n",
              "  </thead>\n",
              "  <tbody>\n",
              "    <tr>\n",
              "      <th>0</th>\n",
              "      <td>Inglês</td>\n",
              "      <td>4</td>\n",
              "    </tr>\n",
              "    <tr>\n",
              "      <th>1</th>\n",
              "      <td>História</td>\n",
              "      <td>6</td>\n",
              "    </tr>\n",
              "    <tr>\n",
              "      <th>2</th>\n",
              "      <td>Matemática</td>\n",
              "      <td>8</td>\n",
              "    </tr>\n",
              "    <tr>\n",
              "      <th>3</th>\n",
              "      <td>Geografia</td>\n",
              "      <td>8</td>\n",
              "    </tr>\n",
              "    <tr>\n",
              "      <th>4</th>\n",
              "      <td>Química</td>\n",
              "      <td>8</td>\n",
              "    </tr>\n",
              "    <tr>\n",
              "      <th>5</th>\n",
              "      <td>Portugês</td>\n",
              "      <td>10</td>\n",
              "    </tr>\n",
              "    <tr>\n",
              "      <th>6</th>\n",
              "      <td>Física</td>\n",
              "      <td>10</td>\n",
              "    </tr>\n",
              "  </tbody>\n",
              "</table>\n",
              "</div>"
            ],
            "text/plain": [
              "        index  Fulano\n",
              "0      Inglês       4\n",
              "1    História       6\n",
              "2  Matemática       8\n",
              "3   Geografia       8\n",
              "4     Química       8\n",
              "5    Portugês      10\n",
              "6      Física      10"
            ]
          },
          "metadata": {
            "tags": []
          },
          "execution_count": 61
        }
      ]
    },
    {
      "cell_type": "code",
      "metadata": {
        "colab": {
          "base_uri": "https://localhost:8080/"
        },
        "id": "z9bOnYKf1NOd",
        "outputId": "9c1e2c37-38cc-4a8a-cd9b-c8ec07b1c888"
      },
      "source": [
        "n = notas_fulano.shape[0]\n",
        "n"
      ],
      "execution_count": 62,
      "outputs": [
        {
          "output_type": "execute_result",
          "data": {
            "text/plain": [
              "7"
            ]
          },
          "metadata": {
            "tags": []
          },
          "execution_count": 62
        }
      ]
    },
    {
      "cell_type": "code",
      "metadata": {
        "colab": {
          "base_uri": "https://localhost:8080/"
        },
        "id": "u3nfPEFjjQMW",
        "outputId": "f18683b7-8078-4a6f-b428-fdf70b402485"
      },
      "source": [
        "elemento_md = (n + 1) / 2\n",
        "elemento_md"
      ],
      "execution_count": 63,
      "outputs": [
        {
          "output_type": "execute_result",
          "data": {
            "text/plain": [
              "4.0"
            ]
          },
          "metadata": {
            "tags": []
          },
          "execution_count": 63
        }
      ]
    },
    {
      "cell_type": "code",
      "metadata": {
        "colab": {
          "base_uri": "https://localhost:8080/"
        },
        "id": "trC12MHxjQMY",
        "outputId": "d974cd09-2738-4de7-b374-12a606381d21"
      },
      "source": [
        "notas_fulano.loc[elemento_md - 1]"
      ],
      "execution_count": 64,
      "outputs": [
        {
          "output_type": "execute_result",
          "data": {
            "text/plain": [
              "index     Geografia\n",
              "Fulano            8\n",
              "Name: 3, dtype: object"
            ]
          },
          "metadata": {
            "tags": []
          },
          "execution_count": 64
        }
      ]
    },
    {
      "cell_type": "code",
      "metadata": {
        "colab": {
          "base_uri": "https://localhost:8080/"
        },
        "id": "NKccffcLjQMZ",
        "outputId": "f4aa9575-8de3-42d4-d9a1-56044893687d"
      },
      "source": [
        "notas_fulano.median()"
      ],
      "execution_count": 65,
      "outputs": [
        {
          "output_type": "execute_result",
          "data": {
            "text/plain": [
              "Fulano    8.0\n",
              "dtype: float64"
            ]
          },
          "metadata": {
            "tags": []
          },
          "execution_count": 65
        }
      ]
    },
    {
      "cell_type": "code",
      "metadata": {
        "id": "ody5mfXLjQMb"
      },
      "source": [
        ""
      ],
      "execution_count": null,
      "outputs": []
    },
    {
      "cell_type": "markdown",
      "metadata": {
        "id": "hQHyjfLkjQMe"
      },
      "source": [
        "### Exemplo 2 - n par\n",
        "\n",
        "<img src='https://caelum-online-public.s3.amazonaws.com/1177-estatistica-parte1/01/img003.png' width='50%' style=\"float:left\">"
      ]
    },
    {
      "cell_type": "code",
      "metadata": {
        "colab": {
          "base_uri": "https://localhost:8080/"
        },
        "id": "Jkx1WZenjQMe",
        "outputId": "fa4d1d2f-e8b4-4525-cd56-a6a94a12d104"
      },
      "source": [
        "notas_beltrano = df.Beltrano.sample(6, random_state = 101)\n",
        "notas_beltrano"
      ],
      "execution_count": 66,
      "outputs": [
        {
          "output_type": "execute_result",
          "data": {
            "text/plain": [
              "Matemática    10.0\n",
              "Inglês         0.5\n",
              "Física         9.5\n",
              "História       3.0\n",
              "Química       10.0\n",
              "Portugês       2.0\n",
              "Name: Beltrano, dtype: float64"
            ]
          },
          "metadata": {
            "tags": []
          },
          "execution_count": 66
        }
      ]
    },
    {
      "cell_type": "code",
      "metadata": {
        "colab": {
          "base_uri": "https://localhost:8080/"
        },
        "id": "D1LUpvZkYsHq",
        "outputId": "6ff3966f-2ecb-4144-88bf-3a5b010e5edd"
      },
      "source": [
        "notas_beltrano = notas_beltrano.sort_values()\n",
        "notas_beltrano"
      ],
      "execution_count": 69,
      "outputs": [
        {
          "output_type": "execute_result",
          "data": {
            "text/plain": [
              "Inglês         0.5\n",
              "Portugês       2.0\n",
              "História       3.0\n",
              "Física         9.5\n",
              "Matemática    10.0\n",
              "Química       10.0\n",
              "Name: Beltrano, dtype: float64"
            ]
          },
          "metadata": {
            "tags": []
          },
          "execution_count": 69
        }
      ]
    },
    {
      "cell_type": "code",
      "metadata": {
        "colab": {
          "base_uri": "https://localhost:8080/",
          "height": 235
        },
        "id": "PuiScCf0-vh9",
        "outputId": "0bdec07c-e341-4acd-c3f1-a1d17c4acf75"
      },
      "source": [
        "notas_beltrano = notas_beltrano.reset_index()\n",
        "notas_beltrano"
      ],
      "execution_count": 70,
      "outputs": [
        {
          "output_type": "execute_result",
          "data": {
            "text/html": [
              "<div>\n",
              "<style scoped>\n",
              "    .dataframe tbody tr th:only-of-type {\n",
              "        vertical-align: middle;\n",
              "    }\n",
              "\n",
              "    .dataframe tbody tr th {\n",
              "        vertical-align: top;\n",
              "    }\n",
              "\n",
              "    .dataframe thead th {\n",
              "        text-align: right;\n",
              "    }\n",
              "</style>\n",
              "<table border=\"1\" class=\"dataframe\">\n",
              "  <thead>\n",
              "    <tr style=\"text-align: right;\">\n",
              "      <th></th>\n",
              "      <th>index</th>\n",
              "      <th>Beltrano</th>\n",
              "    </tr>\n",
              "  </thead>\n",
              "  <tbody>\n",
              "    <tr>\n",
              "      <th>0</th>\n",
              "      <td>Inglês</td>\n",
              "      <td>0.5</td>\n",
              "    </tr>\n",
              "    <tr>\n",
              "      <th>1</th>\n",
              "      <td>Portugês</td>\n",
              "      <td>2.0</td>\n",
              "    </tr>\n",
              "    <tr>\n",
              "      <th>2</th>\n",
              "      <td>História</td>\n",
              "      <td>3.0</td>\n",
              "    </tr>\n",
              "    <tr>\n",
              "      <th>3</th>\n",
              "      <td>Física</td>\n",
              "      <td>9.5</td>\n",
              "    </tr>\n",
              "    <tr>\n",
              "      <th>4</th>\n",
              "      <td>Matemática</td>\n",
              "      <td>10.0</td>\n",
              "    </tr>\n",
              "    <tr>\n",
              "      <th>5</th>\n",
              "      <td>Química</td>\n",
              "      <td>10.0</td>\n",
              "    </tr>\n",
              "  </tbody>\n",
              "</table>\n",
              "</div>"
            ],
            "text/plain": [
              "        index  Beltrano\n",
              "0      Inglês       0.5\n",
              "1    Portugês       2.0\n",
              "2    História       3.0\n",
              "3      Física       9.5\n",
              "4  Matemática      10.0\n",
              "5     Química      10.0"
            ]
          },
          "metadata": {
            "tags": []
          },
          "execution_count": 70
        }
      ]
    },
    {
      "cell_type": "code",
      "metadata": {
        "colab": {
          "base_uri": "https://localhost:8080/"
        },
        "id": "6wB1UztBjQMf",
        "outputId": "7bed18bd-1471-4d17-9a99-352a2f8302f5"
      },
      "source": [
        "n = notas_beltrano.shape[0]\n",
        "n"
      ],
      "execution_count": 72,
      "outputs": [
        {
          "output_type": "execute_result",
          "data": {
            "text/plain": [
              "6"
            ]
          },
          "metadata": {
            "tags": []
          },
          "execution_count": 72
        }
      ]
    },
    {
      "cell_type": "code",
      "metadata": {
        "colab": {
          "base_uri": "https://localhost:8080/"
        },
        "id": "tEBVXl7CjQMh",
        "outputId": "1d37f0be-0267-4b9d-bbf4-ce44a0f058cb"
      },
      "source": [
        "elemento_md = int((n + 1) / 2)\n",
        "elemento_md"
      ],
      "execution_count": 81,
      "outputs": [
        {
          "output_type": "execute_result",
          "data": {
            "text/plain": [
              "3"
            ]
          },
          "metadata": {
            "tags": []
          },
          "execution_count": 81
        }
      ]
    },
    {
      "cell_type": "code",
      "metadata": {
        "colab": {
          "base_uri": "https://localhost:8080/"
        },
        "id": "N-jSUjZSjQMi",
        "outputId": "4afa711a-f7a0-46a7-e212-88a494b516e0"
      },
      "source": [
        "n_md1 = notas_beltrano.loc[elemento_md - 1].values\n",
        "n_md2 = notas_beltrano.loc[elemento_md].values\n",
        "\n",
        "n_md1"
      ],
      "execution_count": 87,
      "outputs": [
        {
          "output_type": "execute_result",
          "data": {
            "text/plain": [
              "array(['História', 3.0], dtype=object)"
            ]
          },
          "metadata": {
            "tags": []
          },
          "execution_count": 87
        }
      ]
    },
    {
      "cell_type": "code",
      "metadata": {
        "colab": {
          "base_uri": "https://localhost:8080/"
        },
        "id": "IevBBtrRjQMj",
        "outputId": "2edd69b2-13d8-4d04-8457-a734645c8c7c"
      },
      "source": [
        "notas_beltrano.median()"
      ],
      "execution_count": 68,
      "outputs": [
        {
          "output_type": "execute_result",
          "data": {
            "text/plain": [
              "6.25"
            ]
          },
          "metadata": {
            "tags": []
          },
          "execution_count": 68
        }
      ]
    },
    {
      "cell_type": "markdown",
      "metadata": {
        "id": "nK27TxrkjQMl"
      },
      "source": [
        "### Obtendo a mediana em nosso dataset"
      ]
    },
    {
      "cell_type": "code",
      "metadata": {
        "colab": {
          "base_uri": "https://localhost:8080/"
        },
        "id": "dJznpnjUjQMl",
        "outputId": "9b247d8c-8664-4e65-8fdd-dd7dcf42e58e"
      },
      "source": [
        "dados.Renda.median()"
      ],
      "execution_count": 88,
      "outputs": [
        {
          "output_type": "execute_result",
          "data": {
            "text/plain": [
              "1200.0"
            ]
          },
          "metadata": {
            "tags": []
          },
          "execution_count": 88
        }
      ]
    },
    {
      "cell_type": "code",
      "metadata": {
        "colab": {
          "base_uri": "https://localhost:8080/"
        },
        "id": "W4a5PVYdjQMm",
        "outputId": "481c1f25-99f0-493c-bcc0-7923d56b3216"
      },
      "source": [
        "dados.Renda.quantile()"
      ],
      "execution_count": 89,
      "outputs": [
        {
          "output_type": "execute_result",
          "data": {
            "text/plain": [
              "1200.0"
            ]
          },
          "metadata": {
            "tags": []
          },
          "execution_count": 89
        }
      ]
    },
    {
      "cell_type": "markdown",
      "metadata": {
        "id": "CmCu6BXQjQMo"
      },
      "source": [
        "## <font color=green>3.3 Moda</font>\n",
        "***\n",
        "\n",
        "Pode-se definir a moda como sendo o valor mais frequente de um conjunto de dados. A moda é bastante utilizada para dados qualitativos."
      ]
    },
    {
      "cell_type": "code",
      "metadata": {
        "colab": {
          "base_uri": "https://localhost:8080/",
          "height": 266
        },
        "id": "BHibMzw8X7Id",
        "outputId": "1b1be32c-c2e4-4ee7-8cde-bb14471d33ec"
      },
      "source": [
        "df"
      ],
      "execution_count": 90,
      "outputs": [
        {
          "output_type": "execute_result",
          "data": {
            "text/html": [
              "<div>\n",
              "<style scoped>\n",
              "    .dataframe tbody tr th:only-of-type {\n",
              "        vertical-align: middle;\n",
              "    }\n",
              "\n",
              "    .dataframe tbody tr th {\n",
              "        vertical-align: top;\n",
              "    }\n",
              "\n",
              "    .dataframe thead th {\n",
              "        text-align: right;\n",
              "    }\n",
              "</style>\n",
              "<table border=\"1\" class=\"dataframe\">\n",
              "  <thead>\n",
              "    <tr style=\"text-align: right;\">\n",
              "      <th>Matérias</th>\n",
              "      <th>Beltrano</th>\n",
              "      <th>Fulano</th>\n",
              "      <th>Sicrano</th>\n",
              "    </tr>\n",
              "  </thead>\n",
              "  <tbody>\n",
              "    <tr>\n",
              "      <th>Matemática</th>\n",
              "      <td>10.0</td>\n",
              "      <td>8</td>\n",
              "      <td>7.5</td>\n",
              "    </tr>\n",
              "    <tr>\n",
              "      <th>Portugês</th>\n",
              "      <td>2.0</td>\n",
              "      <td>10</td>\n",
              "      <td>8.0</td>\n",
              "    </tr>\n",
              "    <tr>\n",
              "      <th>Inglês</th>\n",
              "      <td>0.5</td>\n",
              "      <td>4</td>\n",
              "      <td>7.0</td>\n",
              "    </tr>\n",
              "    <tr>\n",
              "      <th>Geografia</th>\n",
              "      <td>1.0</td>\n",
              "      <td>8</td>\n",
              "      <td>8.0</td>\n",
              "    </tr>\n",
              "    <tr>\n",
              "      <th>História</th>\n",
              "      <td>3.0</td>\n",
              "      <td>6</td>\n",
              "      <td>8.0</td>\n",
              "    </tr>\n",
              "    <tr>\n",
              "      <th>Física</th>\n",
              "      <td>9.5</td>\n",
              "      <td>10</td>\n",
              "      <td>8.5</td>\n",
              "    </tr>\n",
              "    <tr>\n",
              "      <th>Química</th>\n",
              "      <td>10.0</td>\n",
              "      <td>8</td>\n",
              "      <td>7.0</td>\n",
              "    </tr>\n",
              "  </tbody>\n",
              "</table>\n",
              "</div>"
            ],
            "text/plain": [
              "Matérias    Beltrano  Fulano  Sicrano\n",
              "Matemática      10.0       8      7.5\n",
              "Portugês         2.0      10      8.0\n",
              "Inglês           0.5       4      7.0\n",
              "Geografia        1.0       8      8.0\n",
              "História         3.0       6      8.0\n",
              "Física           9.5      10      8.5\n",
              "Química         10.0       8      7.0"
            ]
          },
          "metadata": {
            "tags": []
          },
          "execution_count": 90
        }
      ]
    },
    {
      "cell_type": "code",
      "metadata": {
        "colab": {
          "base_uri": "https://localhost:8080/",
          "height": 80
        },
        "id": "xICDpQguX7Ik",
        "outputId": "3e1e7f27-99bc-4a99-f5c4-55ee45c92e09"
      },
      "source": [
        "df.mode()"
      ],
      "execution_count": 91,
      "outputs": [
        {
          "output_type": "execute_result",
          "data": {
            "text/html": [
              "<div>\n",
              "<style scoped>\n",
              "    .dataframe tbody tr th:only-of-type {\n",
              "        vertical-align: middle;\n",
              "    }\n",
              "\n",
              "    .dataframe tbody tr th {\n",
              "        vertical-align: top;\n",
              "    }\n",
              "\n",
              "    .dataframe thead th {\n",
              "        text-align: right;\n",
              "    }\n",
              "</style>\n",
              "<table border=\"1\" class=\"dataframe\">\n",
              "  <thead>\n",
              "    <tr style=\"text-align: right;\">\n",
              "      <th>Matérias</th>\n",
              "      <th>Beltrano</th>\n",
              "      <th>Fulano</th>\n",
              "      <th>Sicrano</th>\n",
              "    </tr>\n",
              "  </thead>\n",
              "  <tbody>\n",
              "    <tr>\n",
              "      <th>0</th>\n",
              "      <td>10.0</td>\n",
              "      <td>8</td>\n",
              "      <td>8.0</td>\n",
              "    </tr>\n",
              "  </tbody>\n",
              "</table>\n",
              "</div>"
            ],
            "text/plain": [
              "Matérias  Beltrano  Fulano  Sicrano\n",
              "0             10.0       8      8.0"
            ]
          },
          "metadata": {
            "tags": []
          },
          "execution_count": 91
        }
      ]
    },
    {
      "cell_type": "code",
      "metadata": {
        "id": "x9lIRFESX7Il"
      },
      "source": [
        ""
      ],
      "execution_count": null,
      "outputs": []
    },
    {
      "cell_type": "code",
      "metadata": {
        "id": "yUP6QFuiX7Io"
      },
      "source": [
        ""
      ],
      "execution_count": null,
      "outputs": []
    },
    {
      "cell_type": "markdown",
      "metadata": {
        "id": "YwhBwz-JjQMr"
      },
      "source": [
        "### Obtendo a moda em nosso dataset"
      ]
    },
    {
      "cell_type": "code",
      "metadata": {
        "colab": {
          "base_uri": "https://localhost:8080/"
        },
        "id": "mC8vvYk-jQMr",
        "outputId": "a321dfa1-eb1c-47f1-f3ca-9df691c6eda4"
      },
      "source": [
        "dados.Renda.mode()"
      ],
      "execution_count": 92,
      "outputs": [
        {
          "output_type": "execute_result",
          "data": {
            "text/plain": [
              "0    788\n",
              "dtype: int64"
            ]
          },
          "metadata": {
            "tags": []
          },
          "execution_count": 92
        }
      ]
    },
    {
      "cell_type": "code",
      "metadata": {
        "colab": {
          "base_uri": "https://localhost:8080/"
        },
        "id": "Sdosy_vSX7Iw",
        "outputId": "f03757af-10ea-4295-dfe6-ec6324917a0a"
      },
      "source": [
        "dados.Altura.mode()"
      ],
      "execution_count": 93,
      "outputs": [
        {
          "output_type": "execute_result",
          "data": {
            "text/plain": [
              "0    1.568128\n",
              "1    1.671225\n",
              "2    1.681659\n",
              "3    1.692977\n",
              "4    1.708163\n",
              "5    1.708370\n",
              "6    1.753842\n",
              "7    1.779073\n",
              "8    1.796462\n",
              "dtype: float64"
            ]
          },
          "metadata": {
            "tags": []
          },
          "execution_count": 93
        }
      ]
    },
    {
      "cell_type": "markdown",
      "metadata": {
        "id": "_-0gjQWFjQMu"
      },
      "source": [
        "## <font color=green>3.4 Relação entre média, mediana e moda</font>\n",
        "***"
      ]
    },
    {
      "cell_type": "markdown",
      "metadata": {
        "id": "0S7pa_jLjQMu"
      },
      "source": [
        "<img src='https://caelum-online-public.s3.amazonaws.com/1177-estatistica-parte1/01/img004.png' width='80%'>"
      ]
    },
    {
      "cell_type": "markdown",
      "metadata": {
        "id": "b7ZchyFsjQMu"
      },
      "source": [
        "### Avaliando a variável RENDA"
      ]
    },
    {
      "cell_type": "code",
      "metadata": {
        "colab": {
          "base_uri": "https://localhost:8080/",
          "height": 462
        },
        "id": "d8WQQ0PdjQMv",
        "outputId": "336cb3a5-5838-4c38-9f3b-6e211d24719c"
      },
      "source": [
        "ax = sns.distplot(dados.query('Renda < 20000').Renda)\n",
        "ax.figure.set_size_inches(12, 6)\n",
        "ax"
      ],
      "execution_count": 94,
      "outputs": [
        {
          "output_type": "stream",
          "text": [
            "/usr/local/lib/python3.7/dist-packages/seaborn/distributions.py:2557: FutureWarning: `distplot` is a deprecated function and will be removed in a future version. Please adapt your code to use either `displot` (a figure-level function with similar flexibility) or `histplot` (an axes-level function for histograms).\n",
            "  warnings.warn(msg, FutureWarning)\n"
          ],
          "name": "stderr"
        },
        {
          "output_type": "execute_result",
          "data": {
            "text/plain": [
              "<matplotlib.axes._subplots.AxesSubplot at 0x7fd508a0cdd0>"
            ]
          },
          "metadata": {
            "tags": []
          },
          "execution_count": 94
        },
        {
          "output_type": "display_data",
          "data": {
            "image/png": "[encoded data removed]",
            "text/plain": [
              "<Figure size 864x432 with 1 Axes>"
            ]
          },
          "metadata": {
            "tags": [],
            "needs_background": "light"
          }
        }
      ]
    },
    {
      "cell_type": "code",
      "metadata": {
        "colab": {
          "base_uri": "https://localhost:8080/"
        },
        "id": "krws6f_SjQMw",
        "outputId": "3c235c01-e32a-4598-afdc-efa270f49b21"
      },
      "source": [
        "Moda = dados.Renda.mode()[0]\n",
        "Moda"
      ],
      "execution_count": 95,
      "outputs": [
        {
          "output_type": "execute_result",
          "data": {
            "text/plain": [
              "788"
            ]
          },
          "metadata": {
            "tags": []
          },
          "execution_count": 95
        }
      ]
    },
    {
      "cell_type": "code",
      "metadata": {
        "colab": {
          "base_uri": "https://localhost:8080/"
        },
        "id": "_Y7KpB25jQMx",
        "outputId": "8c4d0935-bd41-474b-cb9b-93443392b974"
      },
      "source": [
        "Mediana = dados.Renda.median()\n",
        "Mediana"
      ],
      "execution_count": 96,
      "outputs": [
        {
          "output_type": "execute_result",
          "data": {
            "text/plain": [
              "1200.0"
            ]
          },
          "metadata": {
            "tags": []
          },
          "execution_count": 96
        }
      ]
    },
    {
      "cell_type": "code",
      "metadata": {
        "colab": {
          "base_uri": "https://localhost:8080/"
        },
        "id": "gQ0e56VajQMy",
        "outputId": "1461fba8-71f1-4a14-b1e2-a40db4065935"
      },
      "source": [
        "Media = dados.Renda.mean()\n",
        "Media"
      ],
      "execution_count": 97,
      "outputs": [
        {
          "output_type": "execute_result",
          "data": {
            "text/plain": [
              "2000.3831988547631"
            ]
          },
          "metadata": {
            "tags": []
          },
          "execution_count": 97
        }
      ]
    },
    {
      "cell_type": "code",
      "metadata": {
        "colab": {
          "base_uri": "https://localhost:8080/"
        },
        "id": "nX6lnCBujQM0",
        "outputId": "8f7e0699-86c0-4c83-87a5-40719ecb8aa4"
      },
      "source": [
        "Moda < Mediana < Media"
      ],
      "execution_count": 98,
      "outputs": [
        {
          "output_type": "execute_result",
          "data": {
            "text/plain": [
              "True"
            ]
          },
          "metadata": {
            "tags": []
          },
          "execution_count": 98
        }
      ]
    },
    {
      "cell_type": "markdown",
      "metadata": {
        "id": "FnLQAxSijQM1"
      },
      "source": [
        "***"
      ]
    },
    {
      "cell_type": "markdown",
      "metadata": {
        "id": "WazchssNjQM1"
      },
      "source": [
        "### Avaliando a variável ALTURA"
      ]
    },
    {
      "cell_type": "code",
      "metadata": {
        "colab": {
          "base_uri": "https://localhost:8080/",
          "height": 462
        },
        "id": "41uJsCk9jQM2",
        "outputId": "2396d086-0669-45df-c0e7-b267c6296462"
      },
      "source": [
        "ax = sns.distplot(dados.query('Renda < 20000').Altura)\n",
        "ax.figure.set_size_inches(12, 6)\n",
        "ax"
      ],
      "execution_count": 99,
      "outputs": [
        {
          "output_type": "stream",
          "text": [
            "/usr/local/lib/python3.7/dist-packages/seaborn/distributions.py:2557: FutureWarning: `distplot` is a deprecated function and will be removed in a future version. Please adapt your code to use either `displot` (a figure-level function with similar flexibility) or `histplot` (an axes-level function for histograms).\n",
            "  warnings.warn(msg, FutureWarning)\n"
          ],
          "name": "stderr"
        },
        {
          "output_type": "execute_result",
          "data": {
            "text/plain": [
              "<matplotlib.axes._subplots.AxesSubplot at 0x7fd5088dc7d0>"
            ]
          },
          "metadata": {
            "tags": []
          },
          "execution_count": 99
        },
        {
          "output_type": "display_data",
          "data": {
            "image/png": "[encoded data removed]",
            "text/plain": [
              "<Figure size 864x432 with 1 Axes>"
            ]
          },
          "metadata": {
            "tags": [],
            "needs_background": "light"
          }
        }
      ]
    },
    {
      "cell_type": "code",
      "metadata": {
        "colab": {
          "base_uri": "https://localhost:8080/"
        },
        "id": "EkgerGuXjQM3",
        "outputId": "52640dd0-15e1-4e4c-d496-17fd6276bc1f"
      },
      "source": [
        "Moda = dados.Altura.mode()\n",
        "Moda"
      ],
      "execution_count": 103,
      "outputs": [
        {
          "output_type": "execute_result",
          "data": {
            "text/plain": [
              "0    1.568128\n",
              "1    1.671225\n",
              "2    1.681659\n",
              "3    1.692977\n",
              "4    1.708163\n",
              "5    1.708370\n",
              "6    1.753842\n",
              "7    1.779073\n",
              "8    1.796462\n",
              "dtype: float64"
            ]
          },
          "metadata": {
            "tags": []
          },
          "execution_count": 103
        }
      ]
    },
    {
      "cell_type": "code",
      "metadata": {
        "colab": {
          "base_uri": "https://localhost:8080/"
        },
        "id": "Jj6MFUXbjQM4",
        "outputId": "abc8cbaf-ca7f-40c7-e4ed-de1e9589c77b"
      },
      "source": [
        "Mediana = dados.Altura.median()\n",
        "Mediana"
      ],
      "execution_count": 101,
      "outputs": [
        {
          "output_type": "execute_result",
          "data": {
            "text/plain": [
              "1.6993247325"
            ]
          },
          "metadata": {
            "tags": []
          },
          "execution_count": 101
        }
      ]
    },
    {
      "cell_type": "code",
      "metadata": {
        "colab": {
          "base_uri": "https://localhost:8080/"
        },
        "id": "84X-3AzvjQM5",
        "outputId": "d3520990-f925-4aeb-f4d3-c67cdb25f6a2"
      },
      "source": [
        "Media = dados.Altura.mean()\n",
        "Media"
      ],
      "execution_count": 102,
      "outputs": [
        {
          "output_type": "execute_result",
          "data": {
            "text/plain": [
              "1.6995124540575814"
            ]
          },
          "metadata": {
            "tags": []
          },
          "execution_count": 102
        }
      ]
    },
    {
      "cell_type": "markdown",
      "metadata": {
        "id": "PJIMB8i8jQM6"
      },
      "source": [
        "***"
      ]
    },
    {
      "cell_type": "markdown",
      "metadata": {
        "id": "eS4I2H7jjQM7"
      },
      "source": [
        "### Avaliando a variável ANOS DE ESTUDO"
      ]
    },
    {
      "cell_type": "code",
      "metadata": {
        "colab": {
          "base_uri": "https://localhost:8080/",
          "height": 463
        },
        "id": "NPCcjXqPjQM8",
        "outputId": "c2705353-d996-4398-dc51-5c3ddc6bc335"
      },
      "source": [
        "ax = sns.distplot(dados['Anos de Estudo'], bins = 17)\n",
        "ax.figure.set_size_inches(12, 6)\n",
        "ax"
      ],
      "execution_count": 104,
      "outputs": [
        {
          "output_type": "stream",
          "text": [
            "/usr/local/lib/python3.7/dist-packages/seaborn/distributions.py:2557: FutureWarning: `distplot` is a deprecated function and will be removed in a future version. Please adapt your code to use either `displot` (a figure-level function with similar flexibility) or `histplot` (an axes-level function for histograms).\n",
            "  warnings.warn(msg, FutureWarning)\n"
          ],
          "name": "stderr"
        },
        {
          "output_type": "execute_result",
          "data": {
            "text/plain": [
              "<matplotlib.axes._subplots.AxesSubplot at 0x7fd50876f690>"
            ]
          },
          "metadata": {
            "tags": []
          },
          "execution_count": 104
        },
        {
          "output_type": "display_data",
          "data": {
            "image/png": "[encoded data removed]",
            "text/plain": [
              "<Figure size 864x432 with 1 Axes>"
            ]
          },
          "metadata": {
            "tags": [],
            "needs_background": "light"
          }
        }
      ]
    },
    {
      "cell_type": "code",
      "metadata": {
        "colab": {
          "base_uri": "https://localhost:8080/"
        },
        "id": "PjfvPYUajQM9",
        "outputId": "a340325a-155d-44a0-d00d-8be528db3930"
      },
      "source": [
        "Moda = dados['Anos de Estudo'].mode()[0]\n",
        "Moda"
      ],
      "execution_count": 105,
      "outputs": [
        {
          "output_type": "execute_result",
          "data": {
            "text/plain": [
              "12"
            ]
          },
          "metadata": {
            "tags": []
          },
          "execution_count": 105
        }
      ]
    },
    {
      "cell_type": "code",
      "metadata": {
        "colab": {
          "base_uri": "https://localhost:8080/"
        },
        "id": "VF_Bj8x2jQM-",
        "outputId": "faed7efc-17c0-40ee-cc63-7afa79d6dab8"
      },
      "source": [
        "Mediana = dados['Anos de Estudo'].median()\n",
        "Mediana"
      ],
      "execution_count": 106,
      "outputs": [
        {
          "output_type": "execute_result",
          "data": {
            "text/plain": [
              "11.0"
            ]
          },
          "metadata": {
            "tags": []
          },
          "execution_count": 106
        }
      ]
    },
    {
      "cell_type": "code",
      "metadata": {
        "colab": {
          "base_uri": "https://localhost:8080/"
        },
        "id": "ohqUZ5RsjQNA",
        "outputId": "bb4b4db0-31f7-4450-eabf-6d3595d571d3"
      },
      "source": [
        "Media = dados['Anos de Estudo'].mean()\n",
        "Media"
      ],
      "execution_count": 107,
      "outputs": [
        {
          "output_type": "execute_result",
          "data": {
            "text/plain": [
              "9.469664237376367"
            ]
          },
          "metadata": {
            "tags": []
          },
          "execution_count": 107
        }
      ]
    },
    {
      "cell_type": "code",
      "metadata": {
        "colab": {
          "base_uri": "https://localhost:8080/"
        },
        "id": "AwM8UvApjQNC",
        "outputId": "4a210d18-aea8-4875-ab1d-a23a1e3d792d"
      },
      "source": [
        "Moda > Mediana > Media"
      ],
      "execution_count": 108,
      "outputs": [
        {
          "output_type": "execute_result",
          "data": {
            "text/plain": [
              "True"
            ]
          },
          "metadata": {
            "tags": []
          },
          "execution_count": 108
        }
      ]
    },
    {
      "cell_type": "markdown",
      "metadata": {
        "id": "vcaIo45UjQND"
      },
      "source": [
        "# <font color=green>4 MEDIDAS SEPARATRIZES</font>\n",
        "***"
      ]
    },
    {
      "cell_type": "markdown",
      "metadata": {
        "id": "f4XrApNxjQNE"
      },
      "source": [
        "## <font color=green>4.1 Quartis, decis e percentis</font>\n",
        "***\n",
        "\n",
        "Há uma série de medidas de posição semelhantes na sua concepção à mediana, embora não sejam medidas de tendência central. Como se sabe, a mediana divide a distribuição em duas partes iguais quanto ao número de elementos de cada parte. Já os quartis permitem dividir a distribuição em quatro partes iguais quanto ao número de elementos de cada uma; os decis em dez partes e os centis em cem partes iguais."
      ]
    },
    {
      "cell_type": "code",
      "metadata": {
        "id": "VmbdUO-ujQNE"
      },
      "source": [
        ""
      ],
      "execution_count": null,
      "outputs": []
    },
    {
      "cell_type": "code",
      "metadata": {
        "id": "gyiJDAMbjQNF"
      },
      "source": [
        ""
      ],
      "execution_count": null,
      "outputs": []
    },
    {
      "cell_type": "code",
      "metadata": {
        "id": "EpRKboV5jQNG"
      },
      "source": [
        ""
      ],
      "execution_count": null,
      "outputs": []
    },
    {
      "cell_type": "code",
      "metadata": {
        "id": "LQW--GapjQNI",
        "scrolled": true
      },
      "source": [
        ""
      ],
      "execution_count": null,
      "outputs": []
    },
    {
      "cell_type": "code",
      "metadata": {
        "id": "pO2HCo1WUE5F"
      },
      "source": [
        ""
      ],
      "execution_count": null,
      "outputs": []
    },
    {
      "cell_type": "code",
      "metadata": {
        "id": "GGHVrQA7jQNI"
      },
      "source": [
        ""
      ],
      "execution_count": null,
      "outputs": []
    },
    {
      "cell_type": "markdown",
      "metadata": {
        "id": "6gIeZO_CjQNJ"
      },
      "source": [
        "## <font color=green>4.2 Box-plot</font>\n",
        "***\n",
        "\n",
        "O box plot dá uma idéia da posição, dispersão, assimetria, caudas e dados discrepantes (outliers). A posição central é dada pela mediana e a dispersão por $IIQ$. As posições relativas de $Q1$, $Mediana$ e $Q3$ dão uma noção da simetria da distribuição. Os comprimentos das cauda são dados pelas linhas que vão do retângulo aos valores remotos e pelos valores atípicos."
      ]
    },
    {
      "cell_type": "markdown",
      "metadata": {
        "id": "VeiTE_gvjQNK"
      },
      "source": [
        "<img src='https://caelum-online-public.s3.amazonaws.com/1177-estatistica-parte1/01/img005.png' width='65%'>"
      ]
    },
    {
      "cell_type": "code",
      "metadata": {
        "id": "pBY2EWkzjQNK"
      },
      "source": [
        ""
      ],
      "execution_count": null,
      "outputs": []
    },
    {
      "cell_type": "code",
      "metadata": {
        "id": "AEhX7-ggsuiY"
      },
      "source": [
        ""
      ],
      "execution_count": null,
      "outputs": []
    },
    {
      "cell_type": "code",
      "metadata": {
        "id": "2ZPrRov1suSF"
      },
      "source": [
        ""
      ],
      "execution_count": null,
      "outputs": []
    },
    {
      "cell_type": "code",
      "metadata": {
        "id": "CSwlKUrrsuFi"
      },
      "source": [
        ""
      ],
      "execution_count": null,
      "outputs": []
    },
    {
      "cell_type": "code",
      "metadata": {
        "id": "IDrzBcJ_jQNL"
      },
      "source": [
        ""
      ],
      "execution_count": null,
      "outputs": []
    },
    {
      "cell_type": "code",
      "metadata": {
        "id": "V3I-2KsbjQNM"
      },
      "source": [
        ""
      ],
      "execution_count": null,
      "outputs": []
    },
    {
      "cell_type": "markdown",
      "metadata": {
        "id": "amloMZwVjQNN"
      },
      "source": [
        "<img src='https://caelum-online-public.s3.amazonaws.com/1177-estatistica-parte1/01/img006.png' width='80%'>"
      ]
    },
    {
      "cell_type": "markdown",
      "metadata": {
        "id": "aJ6v_NI9jQNN"
      },
      "source": [
        "# <font color=green>5 MEDIDAS DE DISPERSÃO</font>\n",
        "***\n",
        "\n",
        "Embora as medidas de posição forneçam uma sumarização bastante importante dos dados, elas podem não ser suficientes para caracterizar conjuntos distintos, especialmente quando as observações de determinada distribuição apresentarem dados muito dispersos."
      ]
    },
    {
      "cell_type": "markdown",
      "metadata": {
        "id": "D6xVxAQ7jQNO"
      },
      "source": [
        "## <font color=green>5.1 Desvio médio absoluto</font>\n",
        "***\n",
        "\n",
        "\n",
        "# $$DM = \\frac 1n\\sum_{i=1}^{n}|X_i-\\bar{X}|$$\n"
      ]
    },
    {
      "cell_type": "code",
      "metadata": {
        "id": "0sL31blV7nz3"
      },
      "source": [
        ""
      ],
      "execution_count": null,
      "outputs": []
    },
    {
      "cell_type": "code",
      "metadata": {
        "id": "f3pAri4G7nc4"
      },
      "source": [
        ""
      ],
      "execution_count": null,
      "outputs": []
    },
    {
      "cell_type": "code",
      "metadata": {
        "id": "8_Q2tOTmjQNO"
      },
      "source": [
        ""
      ],
      "execution_count": null,
      "outputs": []
    },
    {
      "cell_type": "code",
      "metadata": {
        "id": "RWo0AhBEjQNP"
      },
      "source": [
        ""
      ],
      "execution_count": null,
      "outputs": []
    },
    {
      "cell_type": "code",
      "metadata": {
        "id": "OiWDTw0ljQNQ"
      },
      "source": [
        ""
      ],
      "execution_count": null,
      "outputs": []
    },
    {
      "cell_type": "code",
      "metadata": {
        "id": "qQbjktz5jQNR"
      },
      "source": [
        ""
      ],
      "execution_count": null,
      "outputs": []
    },
    {
      "cell_type": "code",
      "metadata": {
        "id": "dtIDTt6djQNV"
      },
      "source": [
        ""
      ],
      "execution_count": null,
      "outputs": []
    },
    {
      "cell_type": "code",
      "metadata": {
        "id": "m4buiQWF01xt"
      },
      "source": [
        ""
      ],
      "execution_count": null,
      "outputs": []
    },
    {
      "cell_type": "code",
      "metadata": {
        "id": "1PEJ_LUn01eV"
      },
      "source": [
        ""
      ],
      "execution_count": null,
      "outputs": []
    },
    {
      "cell_type": "markdown",
      "metadata": {
        "id": "jSKfnKwEjQNW"
      },
      "source": [
        "## <font color=green>5.2 Variância</font>\n",
        "***"
      ]
    },
    {
      "cell_type": "markdown",
      "metadata": {
        "id": "tHD3yNqzjQNW"
      },
      "source": [
        "### Variância\n",
        "\n",
        "A variância é construída a partir das diferenças entre cada observação e a média dos dados, ou seja, o desvio em torno da média. No cálculo da variância, os desvios em torno da média são elevados ao quadrado."
      ]
    },
    {
      "cell_type": "markdown",
      "metadata": {
        "id": "WrCn9hw0jQNX"
      },
      "source": [
        "### Variância populacional\n",
        "\n",
        "# $$\\sigma^2 = \\frac 1n\\sum_{i=1}^{n}(X_i-\\mu)^2$$"
      ]
    },
    {
      "cell_type": "markdown",
      "metadata": {
        "id": "jV5mQT_djQNX"
      },
      "source": [
        "### Variância amostral\n",
        "\n",
        "# $$S^2 = \\frac 1{n-1}\\sum_{i=1}^{n}(X_i-\\bar{X})^2$$"
      ]
    },
    {
      "cell_type": "code",
      "metadata": {
        "id": "4tlbCQeujQNZ"
      },
      "source": [
        ""
      ],
      "execution_count": null,
      "outputs": []
    },
    {
      "cell_type": "code",
      "metadata": {
        "id": "oCcAfoIOjQNa"
      },
      "source": [
        ""
      ],
      "execution_count": null,
      "outputs": []
    },
    {
      "cell_type": "code",
      "metadata": {
        "id": "EyrfPHLtjQNb"
      },
      "source": [
        ""
      ],
      "execution_count": null,
      "outputs": []
    },
    {
      "cell_type": "markdown",
      "metadata": {
        "id": "wQl_CsytjQNg"
      },
      "source": [
        "## <font color=green>5.3 Desvio padrão</font>\n",
        "***\n",
        "\n",
        "Uma das restrições da variância é o fato de fornecer medidas em quadrados das unidades originais - a variância de medidas de comprimento, por exemplo, é em unidades de área. Logo, o fato de as unidades serem diferentes dificulta a comparação da dispersão com as variáveis que a definem. Um modo de eliminar essa dificuldade é considerar sua raiz quadrada."
      ]
    },
    {
      "cell_type": "markdown",
      "metadata": {
        "id": "X9w1Iqt3jQNg"
      },
      "source": [
        "### Desvio padrão populacional\n",
        "\n",
        "# $$\\sigma = \\sqrt{\\frac 1n\\sum_{i=1}^{n}(X_i-\\mu)^2} \\Longrightarrow \\sigma = \\sqrt{\\sigma^2}$$"
      ]
    },
    {
      "cell_type": "markdown",
      "metadata": {
        "id": "D3J4MvMpjQNg"
      },
      "source": [
        "### Desvio padrão amostral\n",
        "\n",
        "# $$S = \\sqrt{\\frac 1{n-1}\\sum_{i=1}^{n}(X_i-\\bar{X})^2} \\Longrightarrow S = \\sqrt{S^2}$$"
      ]
    },
    {
      "cell_type": "code",
      "metadata": {
        "id": "2di6iLFaSPda"
      },
      "source": [
        ""
      ],
      "execution_count": null,
      "outputs": []
    },
    {
      "cell_type": "code",
      "metadata": {
        "id": "BMTx9yKHSPON"
      },
      "source": [
        ""
      ],
      "execution_count": null,
      "outputs": []
    },
    {
      "cell_type": "code",
      "metadata": {
        "id": "_PeQtqbdjQNh"
      },
      "source": [
        ""
      ],
      "execution_count": null,
      "outputs": []
    },
    {
      "cell_type": "code",
      "metadata": {
        "id": "5LYOKy25jQNi"
      },
      "source": [
        ""
      ],
      "execution_count": null,
      "outputs": []
    },
    {
      "cell_type": "code",
      "metadata": {
        "id": "FfcyfSkFjQNj"
      },
      "source": [
        ""
      ],
      "execution_count": null,
      "outputs": []
    },
    {
      "cell_type": "code",
      "metadata": {
        "id": "G8vorygCjQNk"
      },
      "source": [
        ""
      ],
      "execution_count": null,
      "outputs": []
    },
    {
      "cell_type": "code",
      "metadata": {
        "id": "01op3BEvjQNl"
      },
      "source": [
        ""
      ],
      "execution_count": null,
      "outputs": []
    },
    {
      "cell_type": "code",
      "metadata": {
        "id": "aiUvZluhUx-0"
      },
      "source": [
        ""
      ],
      "execution_count": null,
      "outputs": []
    }
  ]
}